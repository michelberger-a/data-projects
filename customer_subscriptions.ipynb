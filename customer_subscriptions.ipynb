{
 "cells": [
  {
   "cell_type": "markdown",
   "id": "f98bdeaa-eac6-4f30-b47e-d45e4eab9cb2",
   "metadata": {},
   "source": [
    "<div style=\"text-align: center; padding: 20px;\">\n",
    "    <img src=\"austin-distel-744oGeqpxPQ-unsplash.jpeg\" alt=\"​​Subscription Renewal Insights for a SaaS Company\" width=\"450\"/>\n",
    "</div>\n",
    "\n",
    "\n",
    "<!-- Image source - https://unsplash.com/photos/person-using-macbook-pro-744oGeqpxPQ\n",
    "-->\n",
    "\n",
    "    \n",
    "A SaaS company seeks to uncover what drives its clients to renew subscriptions. They’ve collected data on client details, subscription records, and economic indicators and would like to connect them to better understand its clients’ behavior. \n",
    "\n",
    "They’ve tasked you with analyzing these datasets to identify the key factors influencing clients’ decisions to renew their subscriptions. \n",
    "\n",
    "Your analysis will provide them with insights into which customers are renewing their products and the reasons behind their renewals. The company can leverage these insights to make informed decisions to increase renewal rates and improve customer loyalty, helping them stay competitive and ensure long-term growth.\n",
    "\n",
    "\n",
    "## The Data\n",
    "\n",
    "The company have provided you with three datasets for your analysis. A summary of each data is provided below.\n",
    "\n",
    "## `client_details.csv`\n",
    "\n",
    "| Column         | Description|\n",
    "|----------------|---------------------------------------------------------------|\n",
    "| `client_id`    | Unique identifier for each client. |\n",
    "| `company_size` | Size of the company (Small, Medium, Large).|\n",
    "| `industry`     | Industry to which the client belongs (Fintech, Gaming, Crypto, AI, E-commerce).|\n",
    "| `location`     | Location of the client (New York, New Jersey, Pennsylvania, Massachusetts, Connecticut).|\n",
    "\n",
    "## `subscription_records.csv`\n",
    "\n",
    "| Column             | Description   |\n",
    "|--------------------|---------------|\n",
    "| `client_id`        | Unique identifier for each client.|\n",
    "| `subscription_type`| Type of subscription (Yearly, Monthly).|\n",
    "| `start_date`       | Start date of the subscription - YYYY-MM-DD.|\n",
    "| `end_date`         | End date of the subscription - YYYY-MM-DD.|\n",
    "| `renewed`          | Indicates whether the subscription was renewed (True, False).|\n",
    "\n",
    "## `economic_indicators.csv`\n",
    "\n",
    "| Column           | Description                                       |\n",
    "|------------------|---------------------------------------------------|\n",
    "| `start_date`     | Start date of the economic indicator (Quarterly) - YYYY-MM-DD.|\n",
    "| `end_date`       | End date of the economic indicator (Quarterly) - YYYY-MM-DD.|\n",
    "| `inflation_rate` | Inflation rate in the period.|\n",
    "| `gdp_growth_rate`| Gross Domestic Product (GDP) growth rate in the period.|\n"
   ]
  },
  {
   "cell_type": "code",
   "execution_count": 2,
   "id": "73ca3720-210a-4230-8601-2ef53803a02f",
   "metadata": {
    "executionCancelledAt": null,
    "executionTime": 26,
    "lastExecutedAt": 1738435543340,
    "lastExecutedByKernel": "6978efdd-4fe1-4b3e-a66b-8e710ed9f743",
    "lastScheduledRunId": null,
    "lastSuccessfullyExecutedCode": "# Re-run this cell\n# Import required libraries\nimport pandas as pd\n\n# Import data\nclient_details = pd.read_csv('data/client_details.csv')\nsubscription_records = pd.read_csv('data/subscription_records.csv', parse_dates = ['start_date','end_date'])\neconomic_indicators = pd.read_csv('data/economic_indicators.csv', parse_dates = ['start_date','end_date'])",
    "outputsMetadata": {
     "0": {
      "height": 196,
      "type": "dataFrame"
     }
    }
   },
   "outputs": [],
   "source": [
    "# Re-run this cell\n",
    "# Import required libraries\n",
    "import pandas as pd\n",
    "\n",
    "# Import data\n",
    "client_details = pd.read_csv('data/client_details.csv')\n",
    "subscription_records = pd.read_csv('data/subscription_records.csv', parse_dates = ['start_date','end_date'])\n",
    "economic_indicators = pd.read_csv('data/economic_indicators.csv', parse_dates = ['start_date','end_date'])"
   ]
  },
  {
   "cell_type": "code",
   "execution_count": 3,
   "id": "d35728fe-c1b6-4f65-88c0-a0fa967cc52c",
   "metadata": {
    "executionCancelledAt": null,
    "executionTime": 50,
    "lastExecutedAt": 1738435543390,
    "lastExecutedByKernel": "6978efdd-4fe1-4b3e-a66b-8e710ed9f743",
    "lastScheduledRunId": null,
    "lastSuccessfullyExecutedCode": "# checking the data before we begin any analytics\n# want to make sure there are no missing values in the data\nprint(client_details.info())\nprint(subscription_records.info())\nprint(economic_indicators.info())",
    "outputsMetadata": {
     "0": {
      "height": 616,
      "type": "stream"
     }
    }
   },
   "outputs": [
    {
     "name": "stdout",
     "output_type": "stream",
     "text": [
      "<class 'pandas.core.frame.DataFrame'>\n",
      "RangeIndex: 100 entries, 0 to 99\n",
      "Data columns (total 4 columns):\n",
      " #   Column        Non-Null Count  Dtype \n",
      "---  ------        --------------  ----- \n",
      " 0   client_id     100 non-null    int64 \n",
      " 1   company_size  100 non-null    object\n",
      " 2   industry      100 non-null    object\n",
      " 3   location      100 non-null    object\n",
      "dtypes: int64(1), object(3)\n",
      "memory usage: 3.2+ KB\n",
      "None\n",
      "<class 'pandas.core.frame.DataFrame'>\n",
      "RangeIndex: 100 entries, 0 to 99\n",
      "Data columns (total 5 columns):\n",
      " #   Column             Non-Null Count  Dtype         \n",
      "---  ------             --------------  -----         \n",
      " 0   client_id          100 non-null    int64         \n",
      " 1   subscription_type  100 non-null    object        \n",
      " 2   start_date         100 non-null    datetime64[ns]\n",
      " 3   end_date           100 non-null    datetime64[ns]\n",
      " 4   renewed            100 non-null    bool          \n",
      "dtypes: bool(1), datetime64[ns](2), int64(1), object(1)\n",
      "memory usage: 3.3+ KB\n",
      "None\n",
      "<class 'pandas.core.frame.DataFrame'>\n",
      "RangeIndex: 21 entries, 0 to 20\n",
      "Data columns (total 5 columns):\n",
      " #   Column           Non-Null Count  Dtype         \n",
      "---  ------           --------------  -----         \n",
      " 0   Unnamed: 0       21 non-null     int64         \n",
      " 1   start_date       21 non-null     datetime64[ns]\n",
      " 2   end_date         21 non-null     datetime64[ns]\n",
      " 3   inflation_rate   21 non-null     float64       \n",
      " 4   gdp_growth_rate  21 non-null     float64       \n",
      "dtypes: datetime64[ns](2), float64(2), int64(1)\n",
      "memory usage: 968.0 bytes\n",
      "None\n"
     ]
    }
   ],
   "source": [
    "# checking the data before we begin any analytics\n",
    "# want to make sure there are no missing values in the data\n",
    "print(client_details.info())\n",
    "print(subscription_records.info())\n",
    "print(economic_indicators.info())"
   ]
  },
  {
   "cell_type": "markdown",
   "id": "19f437e4-2de0-4491-b953-f4f7d098bf2c",
   "metadata": {},
   "source": [
    "### Question 1\n",
    "#### How many total Fintech and Crypto clients does the company have?"
   ]
  },
  {
   "cell_type": "code",
   "execution_count": 4,
   "id": "580f374c-a4dd-477a-8baa-4da00cd1caa6",
   "metadata": {
    "executionCancelledAt": null,
    "executionTime": 52,
    "lastExecutedAt": 1738435543442,
    "lastExecutedByKernel": "6978efdd-4fe1-4b3e-a66b-8e710ed9f743",
    "lastScheduledRunId": null,
    "lastSuccessfullyExecutedCode": "# investigate the client information\n# determine how to filter for crypto and fintech clients\n\nprint(client_details.head())\nprint(client_details['industry'].unique())",
    "outputsMetadata": {
     "0": {
      "height": 164,
      "type": "stream"
     }
    }
   },
   "outputs": [
    {
     "name": "stdout",
     "output_type": "stream",
     "text": [
      "    client_id company_size    industry       location\n",
      "0  4280387012        Large     Fintech       New York\n",
      "1  2095513148        Small     Fintech     New Jersey\n",
      "2  7225516707       Medium     Fintech   Pennsylvania\n",
      "3  8093537819        Large      Crypto       New York\n",
      "4  4387541014       Medium  E-commerce  Massachusetts\n",
      "['Fintech' 'Crypto' 'E-commerce' 'AI' 'Gaming']\n"
     ]
    }
   ],
   "source": [
    "# investigate the client information\n",
    "# determine how to filter for crypto and fintech clients\n",
    "\n",
    "print(client_details.head())\n",
    "print(client_details['industry'].unique())"
   ]
  },
  {
   "cell_type": "code",
   "execution_count": 5,
   "id": "6bf6e142-f4f2-432c-b9c6-00777f5bceea",
   "metadata": {
    "executionCancelledAt": null,
    "executionTime": 48,
    "lastExecutedAt": 1738435543490,
    "lastExecutedByKernel": "6978efdd-4fe1-4b3e-a66b-8e710ed9f743",
    "lastScheduledRunId": null,
    "lastSuccessfullyExecutedCode": "# so we know to use 'Fintech' and 'Crypto' as indsutry filters\nfin_crypto = client_details[client_details['industry'].isin(['Crypto', 'Fintech'])]\n\n# group and count by - total number of these companies\ntotal_fintech_crypto_clients = fin_crypto.shape[0]",
    "outputsMetadata": {
     "0": {
      "height": 50,
      "tableState": {
       "customFilter": {
        "const": {
         "type": "boolean",
         "valid": true,
         "value": true
        },
        "id": "ee707031-32b0-4539-b123-00d3aef1bb50",
        "nodeType": "const"
       },
       "quickFilterText": ""
      },
      "type": "dataFrame"
     }
    }
   },
   "outputs": [
    {
     "data": {
      "text/plain": [
       "47"
      ]
     },
     "execution_count": 5,
     "metadata": {},
     "output_type": "execute_result"
    }
   ],
   "source": [
    "# so we know to use 'Fintech' and 'Crypto' as indsutry filters\n",
    "fin_crypto = client_details[client_details['industry'].isin(['Crypto', 'Fintech'])]\n",
    "\n",
    "# group and count by - total number of these companies\n",
    "total_fintech_crypto_clients = fin_crypto.shape[0]\n",
    "total_fintech_crypto_clients"
   ]
  },
  {
   "cell_type": "code",
   "execution_count": 13,
   "id": "11b15392",
   "metadata": {},
   "outputs": [
    {
     "name": "stdout",
     "output_type": "stream",
     "text": [
      "There are a total of 47 Fintech and Crypto clients.\n"
     ]
    }
   ],
   "source": [
    "print(f\"There are a total of {total_fintech_crypto_clients} Fintech and Crypto clients.\")"
   ]
  },
  {
   "cell_type": "markdown",
   "id": "7b837b54-05d0-4a6e-9003-586efdf5e7f4",
   "metadata": {},
   "source": [
    "### Question 2\n",
    "#### Which industry has the highest renewal rate?"
   ]
  },
  {
   "cell_type": "code",
   "execution_count": 6,
   "id": "a8158caf-549f-44a3-a588-236770b5df45",
   "metadata": {
    "executionCancelledAt": null,
    "executionTime": 60,
    "lastExecutedAt": 1738435543550,
    "lastExecutedByKernel": "6978efdd-4fe1-4b3e-a66b-8e710ed9f743",
    "lastScheduledRunId": null,
    "lastSuccessfullyExecutedCode": "# will need to join the client_details table and the subscription_records table\nprint(client_details.head())\nprint(subscription_records.head())\n\n# will join on client id, then group by industry and add renewed",
    "outputsMetadata": {
     "0": {
      "height": 269,
      "type": "stream"
     }
    }
   },
   "outputs": [
    {
     "name": "stdout",
     "output_type": "stream",
     "text": [
      "    client_id company_size    industry       location\n",
      "0  4280387012        Large     Fintech       New York\n",
      "1  2095513148        Small     Fintech     New Jersey\n",
      "2  7225516707       Medium     Fintech   Pennsylvania\n",
      "3  8093537819        Large      Crypto       New York\n",
      "4  4387541014       Medium  E-commerce  Massachusetts\n",
      "    client_id subscription_type start_date   end_date  renewed\n",
      "0  1131383004            Yearly 2020-11-11 2021-11-11    False\n",
      "1  4309371709           Monthly 2021-05-24 2021-06-23     True\n",
      "2  3183675157            Yearly 2021-12-25 2022-12-25     True\n",
      "3  5371694837           Monthly 2020-03-14 2020-04-13     True\n",
      "4  5157113076           Monthly 2019-11-07 2019-12-07    False\n"
     ]
    }
   ],
   "source": [
    "# will need to join the client_details table and the subscription_records table\n",
    "print(client_details.head())\n",
    "print(subscription_records.head())\n",
    "\n",
    "# will join on client id, then group by industry and add renewed"
   ]
  },
  {
   "cell_type": "code",
   "execution_count": 7,
   "id": "efdaf699-36d0-44e5-a689-b8d64422f45b",
   "metadata": {
    "executionCancelledAt": null,
    "executionTime": 53,
    "lastExecutedAt": 1738435543603,
    "lastExecutedByKernel": "6978efdd-4fe1-4b3e-a66b-8e710ed9f743",
    "lastScheduledRunId": null,
    "lastSuccessfullyExecutedCode": "# join the tables on pd.merge\ndf = pd.merge(subscription_records, client_details, how='inner', left_on='client_id', right_on='client_id')\ndf.head()",
    "outputsMetadata": {
     "0": {
      "height": 500,
      "tableState": {
       "quickFilterText": ""
      },
      "type": "dataFrame"
     }
    }
   },
   "outputs": [
    {
     "data": {
      "text/html": [
       "<div>\n",
       "<style scoped>\n",
       "    .dataframe tbody tr th:only-of-type {\n",
       "        vertical-align: middle;\n",
       "    }\n",
       "\n",
       "    .dataframe tbody tr th {\n",
       "        vertical-align: top;\n",
       "    }\n",
       "\n",
       "    .dataframe thead th {\n",
       "        text-align: right;\n",
       "    }\n",
       "</style>\n",
       "<table border=\"1\" class=\"dataframe\">\n",
       "  <thead>\n",
       "    <tr style=\"text-align: right;\">\n",
       "      <th></th>\n",
       "      <th>client_id</th>\n",
       "      <th>subscription_type</th>\n",
       "      <th>start_date</th>\n",
       "      <th>end_date</th>\n",
       "      <th>renewed</th>\n",
       "      <th>company_size</th>\n",
       "      <th>industry</th>\n",
       "      <th>location</th>\n",
       "    </tr>\n",
       "  </thead>\n",
       "  <tbody>\n",
       "    <tr>\n",
       "      <th>0</th>\n",
       "      <td>1131383004</td>\n",
       "      <td>Yearly</td>\n",
       "      <td>2020-11-11</td>\n",
       "      <td>2021-11-11</td>\n",
       "      <td>False</td>\n",
       "      <td>Large</td>\n",
       "      <td>Fintech</td>\n",
       "      <td>Massachusetts</td>\n",
       "    </tr>\n",
       "    <tr>\n",
       "      <th>1</th>\n",
       "      <td>4309371709</td>\n",
       "      <td>Monthly</td>\n",
       "      <td>2021-05-24</td>\n",
       "      <td>2021-06-23</td>\n",
       "      <td>True</td>\n",
       "      <td>Large</td>\n",
       "      <td>E-commerce</td>\n",
       "      <td>Connecticut</td>\n",
       "    </tr>\n",
       "    <tr>\n",
       "      <th>2</th>\n",
       "      <td>3183675157</td>\n",
       "      <td>Yearly</td>\n",
       "      <td>2021-12-25</td>\n",
       "      <td>2022-12-25</td>\n",
       "      <td>True</td>\n",
       "      <td>Small</td>\n",
       "      <td>Gaming</td>\n",
       "      <td>New Jersey</td>\n",
       "    </tr>\n",
       "    <tr>\n",
       "      <th>3</th>\n",
       "      <td>5371694837</td>\n",
       "      <td>Monthly</td>\n",
       "      <td>2020-03-14</td>\n",
       "      <td>2020-04-13</td>\n",
       "      <td>True</td>\n",
       "      <td>Large</td>\n",
       "      <td>AI</td>\n",
       "      <td>Pennsylvania</td>\n",
       "    </tr>\n",
       "    <tr>\n",
       "      <th>4</th>\n",
       "      <td>5157113076</td>\n",
       "      <td>Monthly</td>\n",
       "      <td>2019-11-07</td>\n",
       "      <td>2019-12-07</td>\n",
       "      <td>False</td>\n",
       "      <td>Medium</td>\n",
       "      <td>Gaming</td>\n",
       "      <td>Massachusetts</td>\n",
       "    </tr>\n",
       "  </tbody>\n",
       "</table>\n",
       "</div>"
      ],
      "text/plain": [
       "    client_id subscription_type start_date   end_date  renewed company_size  \\\n",
       "0  1131383004            Yearly 2020-11-11 2021-11-11    False        Large   \n",
       "1  4309371709           Monthly 2021-05-24 2021-06-23     True        Large   \n",
       "2  3183675157            Yearly 2021-12-25 2022-12-25     True        Small   \n",
       "3  5371694837           Monthly 2020-03-14 2020-04-13     True        Large   \n",
       "4  5157113076           Monthly 2019-11-07 2019-12-07    False       Medium   \n",
       "\n",
       "     industry       location  \n",
       "0     Fintech  Massachusetts  \n",
       "1  E-commerce    Connecticut  \n",
       "2      Gaming     New Jersey  \n",
       "3          AI   Pennsylvania  \n",
       "4      Gaming  Massachusetts  "
      ]
     },
     "execution_count": 7,
     "metadata": {},
     "output_type": "execute_result"
    }
   ],
   "source": [
    "# join the tables on pd.merge\n",
    "df = pd.merge(subscription_records, client_details, how='inner', left_on='client_id', right_on='client_id')\n",
    "df.head()"
   ]
  },
  {
   "cell_type": "code",
   "execution_count": 8,
   "id": "9e2aa111-6422-49fd-815e-6df7819a471d",
   "metadata": {
    "executionCancelledAt": null,
    "executionTime": 51,
    "lastExecutedAt": 1738435543654,
    "lastExecutedByKernel": "6978efdd-4fe1-4b3e-a66b-8e710ed9f743",
    "lastScheduledRunId": null,
    "lastSuccessfullyExecutedCode": "# group by industry and count\nrenewed_count = df.groupby('industry')['renewed'].sum().reset_index().sort_values('renewed', ascending=False)\n\n# extract the top industry for renewals\ntop_industry = renewed_count.iloc[0,0]\ntop_industry",
    "outputsMetadata": {
     "0": {
      "height": 245,
      "tableState": {
       "quickFilterText": ""
      },
      "type": "dataFrame"
     }
    }
   },
   "outputs": [
    {
     "data": {
      "text/plain": [
       "'Gaming'"
      ]
     },
     "execution_count": 8,
     "metadata": {},
     "output_type": "execute_result"
    }
   ],
   "source": [
    "# group by industry and count\n",
    "renewed_count = df.groupby('industry')['renewed'].sum().reset_index().sort_values('renewed', ascending=False)\n",
    "\n",
    "# extract the top industry for renewals\n",
    "top_industry = renewed_count.iloc[0,0]\n",
    "top_industry"
   ]
  },
  {
   "cell_type": "code",
   "execution_count": 15,
   "id": "75a3f21d",
   "metadata": {},
   "outputs": [
    {
     "name": "stdout",
     "output_type": "stream",
     "text": [
      "The top industry for subscription renewals is Gaming.\n"
     ]
    }
   ],
   "source": [
    "print(f\"The top industry for subscription renewals is {top_industry}.\")"
   ]
  },
  {
   "cell_type": "markdown",
   "id": "5b084d69-be14-474d-aa7a-e60afdfd1bfe",
   "metadata": {},
   "source": [
    "### Question 3\n",
    "#### For clients that renewed their subscriptions, what was the average inflation rate when their subscriptions were renewed?"
   ]
  },
  {
   "cell_type": "code",
   "execution_count": 9,
   "id": "4b04e0b2-fe5d-4264-8a71-4a0f9c8e2095",
   "metadata": {
    "executionCancelledAt": null,
    "executionTime": 65,
    "lastExecutedAt": 1738435543719,
    "lastExecutedByKernel": "6978efdd-4fe1-4b3e-a66b-8e710ed9f743",
    "lastScheduledRunId": null,
    "lastSuccessfullyExecutedCode": "# since its the renewal that we are interested in, we will need to compare the end_date from subscription_records\n# but only where the client renewed\n\n# we will need to join all three tables for this \n\nprint(client_details.head())\nprint(subscription_records.head())\nprint(economic_indicators.head())"
   },
   "outputs": [
    {
     "name": "stdout",
     "output_type": "stream",
     "text": [
      "    client_id company_size    industry       location\n",
      "0  4280387012        Large     Fintech       New York\n",
      "1  2095513148        Small     Fintech     New Jersey\n",
      "2  7225516707       Medium     Fintech   Pennsylvania\n",
      "3  8093537819        Large      Crypto       New York\n",
      "4  4387541014       Medium  E-commerce  Massachusetts\n",
      "    client_id subscription_type start_date   end_date  renewed\n",
      "0  1131383004            Yearly 2020-11-11 2021-11-11    False\n",
      "1  4309371709           Monthly 2021-05-24 2021-06-23     True\n",
      "2  3183675157            Yearly 2021-12-25 2022-12-25     True\n",
      "3  5371694837           Monthly 2020-03-14 2020-04-13     True\n",
      "4  5157113076           Monthly 2019-11-07 2019-12-07    False\n",
      "   Unnamed: 0 start_date   end_date  inflation_rate  gdp_growth_rate\n",
      "0           0 2018-01-01 2018-03-31            5.77             3.51\n",
      "1           1 2018-04-01 2018-06-30            1.17             2.15\n",
      "2           2 2018-07-01 2018-09-30            1.56             1.82\n",
      "3           3 2018-10-01 2018-12-31            2.78             2.43\n",
      "4           4 2019-01-01 2019-03-31            6.91             3.44\n"
     ]
    }
   ],
   "source": [
    "# since its the renewal that we are interested in, we will need to compare the end_date from subscription_records\n",
    "# but only where the client renewed\n",
    "\n",
    "# we will need to join all three tables for this \n",
    "\n",
    "print(client_details.head())\n",
    "print(subscription_records.head())\n",
    "print(economic_indicators.head())"
   ]
  },
  {
   "cell_type": "code",
   "execution_count": 10,
   "id": "25c5ee2d-abc8-4450-af14-d3b6db5884f9",
   "metadata": {
    "executionCancelledAt": null,
    "executionTime": 52,
    "lastExecutedAt": 1738435543771,
    "lastExecutedByKernel": "6978efdd-4fe1-4b3e-a66b-8e710ed9f743",
    "lastScheduledRunId": null,
    "lastSuccessfullyExecutedCode": "# lets take df and filter for renewed\nrenewed = df[df['renewed'] == True]\nrenewed = renewed.sort_values('end_date', ascending=True)\nrenewed\n\n# let's also take the df end date and find where it fits between start and end_date for economic data\nrenewed_economic = pd.merge_asof(renewed, economic_indicators, left_on='end_date', right_on='start_date', direction='backward')\nrenewed_economic.head()",
    "outputsMetadata": {
     "0": {
      "height": 262,
      "tableState": {
       "quickFilterText": ""
      },
      "type": "dataFrame"
     }
    }
   },
   "outputs": [
    {
     "data": {
      "text/html": [
       "<div>\n",
       "<style scoped>\n",
       "    .dataframe tbody tr th:only-of-type {\n",
       "        vertical-align: middle;\n",
       "    }\n",
       "\n",
       "    .dataframe tbody tr th {\n",
       "        vertical-align: top;\n",
       "    }\n",
       "\n",
       "    .dataframe thead th {\n",
       "        text-align: right;\n",
       "    }\n",
       "</style>\n",
       "<table border=\"1\" class=\"dataframe\">\n",
       "  <thead>\n",
       "    <tr style=\"text-align: right;\">\n",
       "      <th></th>\n",
       "      <th>client_id</th>\n",
       "      <th>subscription_type</th>\n",
       "      <th>start_date_x</th>\n",
       "      <th>end_date_x</th>\n",
       "      <th>renewed</th>\n",
       "      <th>company_size</th>\n",
       "      <th>industry</th>\n",
       "      <th>location</th>\n",
       "      <th>Unnamed: 0</th>\n",
       "      <th>start_date_y</th>\n",
       "      <th>end_date_y</th>\n",
       "      <th>inflation_rate</th>\n",
       "      <th>gdp_growth_rate</th>\n",
       "    </tr>\n",
       "  </thead>\n",
       "  <tbody>\n",
       "    <tr>\n",
       "      <th>0</th>\n",
       "      <td>4519356806</td>\n",
       "      <td>Monthly</td>\n",
       "      <td>2018-03-04</td>\n",
       "      <td>2018-04-03</td>\n",
       "      <td>True</td>\n",
       "      <td>Small</td>\n",
       "      <td>Gaming</td>\n",
       "      <td>Massachusetts</td>\n",
       "      <td>1</td>\n",
       "      <td>2018-04-01</td>\n",
       "      <td>2018-06-30</td>\n",
       "      <td>1.17</td>\n",
       "      <td>2.15</td>\n",
       "    </tr>\n",
       "    <tr>\n",
       "      <th>1</th>\n",
       "      <td>3683504527</td>\n",
       "      <td>Monthly</td>\n",
       "      <td>2018-04-12</td>\n",
       "      <td>2018-05-12</td>\n",
       "      <td>True</td>\n",
       "      <td>Medium</td>\n",
       "      <td>Gaming</td>\n",
       "      <td>Pennsylvania</td>\n",
       "      <td>1</td>\n",
       "      <td>2018-04-01</td>\n",
       "      <td>2018-06-30</td>\n",
       "      <td>1.17</td>\n",
       "      <td>2.15</td>\n",
       "    </tr>\n",
       "    <tr>\n",
       "      <th>2</th>\n",
       "      <td>7462725203</td>\n",
       "      <td>Monthly</td>\n",
       "      <td>2018-05-21</td>\n",
       "      <td>2018-06-20</td>\n",
       "      <td>True</td>\n",
       "      <td>Medium</td>\n",
       "      <td>E-commerce</td>\n",
       "      <td>Massachusetts</td>\n",
       "      <td>1</td>\n",
       "      <td>2018-04-01</td>\n",
       "      <td>2018-06-30</td>\n",
       "      <td>1.17</td>\n",
       "      <td>2.15</td>\n",
       "    </tr>\n",
       "    <tr>\n",
       "      <th>3</th>\n",
       "      <td>6751372012</td>\n",
       "      <td>Monthly</td>\n",
       "      <td>2018-05-29</td>\n",
       "      <td>2018-06-28</td>\n",
       "      <td>True</td>\n",
       "      <td>Large</td>\n",
       "      <td>E-commerce</td>\n",
       "      <td>New York</td>\n",
       "      <td>1</td>\n",
       "      <td>2018-04-01</td>\n",
       "      <td>2018-06-30</td>\n",
       "      <td>1.17</td>\n",
       "      <td>2.15</td>\n",
       "    </tr>\n",
       "    <tr>\n",
       "      <th>4</th>\n",
       "      <td>6774252233</td>\n",
       "      <td>Monthly</td>\n",
       "      <td>2018-12-12</td>\n",
       "      <td>2019-01-11</td>\n",
       "      <td>True</td>\n",
       "      <td>Medium</td>\n",
       "      <td>Fintech</td>\n",
       "      <td>New Jersey</td>\n",
       "      <td>4</td>\n",
       "      <td>2019-01-01</td>\n",
       "      <td>2019-03-31</td>\n",
       "      <td>6.91</td>\n",
       "      <td>3.44</td>\n",
       "    </tr>\n",
       "  </tbody>\n",
       "</table>\n",
       "</div>"
      ],
      "text/plain": [
       "    client_id subscription_type start_date_x end_date_x  renewed company_size  \\\n",
       "0  4519356806           Monthly   2018-03-04 2018-04-03     True        Small   \n",
       "1  3683504527           Monthly   2018-04-12 2018-05-12     True       Medium   \n",
       "2  7462725203           Monthly   2018-05-21 2018-06-20     True       Medium   \n",
       "3  6751372012           Monthly   2018-05-29 2018-06-28     True        Large   \n",
       "4  6774252233           Monthly   2018-12-12 2019-01-11     True       Medium   \n",
       "\n",
       "     industry       location  Unnamed: 0 start_date_y end_date_y  \\\n",
       "0      Gaming  Massachusetts           1   2018-04-01 2018-06-30   \n",
       "1      Gaming   Pennsylvania           1   2018-04-01 2018-06-30   \n",
       "2  E-commerce  Massachusetts           1   2018-04-01 2018-06-30   \n",
       "3  E-commerce       New York           1   2018-04-01 2018-06-30   \n",
       "4     Fintech     New Jersey           4   2019-01-01 2019-03-31   \n",
       "\n",
       "   inflation_rate  gdp_growth_rate  \n",
       "0            1.17             2.15  \n",
       "1            1.17             2.15  \n",
       "2            1.17             2.15  \n",
       "3            1.17             2.15  \n",
       "4            6.91             3.44  "
      ]
     },
     "execution_count": 10,
     "metadata": {},
     "output_type": "execute_result"
    }
   ],
   "source": [
    "# lets take df and filter for renewed\n",
    "renewed = df[df['renewed'] == True]\n",
    "renewed = renewed.sort_values('end_date', ascending=True)\n",
    "renewed\n",
    "\n",
    "# let's also take the df end date and find where it fits between start and end_date for economic data\n",
    "renewed_economic = pd.merge_asof(renewed, economic_indicators, left_on='end_date', right_on='start_date', direction='backward')\n",
    "renewed_economic.head()"
   ]
  },
  {
   "cell_type": "code",
   "execution_count": 11,
   "id": "4fc6424e-d490-40b8-a702-52dd4970669e",
   "metadata": {
    "executionCancelledAt": null,
    "executionTime": 52,
    "lastExecutedAt": 1738435543823,
    "lastExecutedByKernel": "6978efdd-4fe1-4b3e-a66b-8e710ed9f743",
    "lastScheduledRunId": null,
    "lastSuccessfullyExecutedCode": "# find the mean inflation rate\naverage_inflation_for_renewals = renewed_economic['inflation_rate'].mean()\naverage_inflation_for_renewals"
   },
   "outputs": [
    {
     "data": {
      "text/plain": [
       "4.418909090909092"
      ]
     },
     "execution_count": 11,
     "metadata": {},
     "output_type": "execute_result"
    }
   ],
   "source": [
    "# find the mean inflation rate\n",
    "average_inflation_for_renewals = renewed_economic['inflation_rate'].mean()\n",
    "average_inflation_for_renewals"
   ]
  },
  {
   "cell_type": "code",
   "execution_count": 17,
   "id": "2284f004",
   "metadata": {},
   "outputs": [
    {
     "name": "stdout",
     "output_type": "stream",
     "text": [
      "The average inflation rate of when clients renewed their subscription is 4.42%.\n"
     ]
    }
   ],
   "source": [
    "print(f\"The average inflation rate of when clients renewed their subscription is {average_inflation_for_renewals.round(2)}%.\")"
   ]
  }
 ],
 "metadata": {
  "colab": {
   "name": "Welcome to DataCamp Workspaces.ipynb",
   "provenance": []
  },
  "editor": "DataLab",
  "kernelspec": {
   "display_name": "Python 3",
   "language": "python",
   "name": "python3"
  },
  "language_info": {
   "codemirror_mode": {
    "name": "ipython",
    "version": 3
   },
   "file_extension": ".py",
   "mimetype": "text/x-python",
   "name": "python",
   "nbconvert_exporter": "python",
   "pygments_lexer": "ipython3",
   "version": "3.9.15"
  }
 },
 "nbformat": 4,
 "nbformat_minor": 5
}
