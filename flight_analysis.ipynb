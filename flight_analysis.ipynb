{
 "cells": [
  {
   "cell_type": "markdown",
   "id": "6f4b6b29-6f9a-45ee-96bc-ff4c822d240f",
   "metadata": {},
   "source": [
    "![Plane departing the Pacific Northwest](IMG_8801.JPG)\n",
    "\n",
    "A prominent airline company in the Pacific Northwest has accumulated extensive data related to flights and weather patterns and needs to understand the factors influencing the departure delays and cancellations to benefit both airlines and passengers. As the data analyst on the team, you decide to embark on this analytical project.\n",
    "\n",
    "The aviation industry is dynamic with various variables impacting flight operations. To ensure the relevance and applicability of your findings, you choose to focus solely on flights from the 'pnwflights2022' datasets available from the ModernDive team exported as CSV files. These datasets provide comprehensive information on flights departing in the first half of 2022 from both of the two major airports in this region: SEA (Seattle-Tacoma International Airport) and PDX (Portland International Airport): \n",
    "\n",
    "- `flights2022.csv` contains information about about each flight including \n",
    "\n",
    "| Variable   | Description                                          |\n",
    "|------------|------------------------------------------------------|\n",
    "| `dep_time`   | Departure time (in the format hhmm) where`NA` corresponds to a cancelled flight        |\n",
    "| `dep_delay`  | Departure delay, in minutes (negative for early)    |\n",
    "| `origin`     | Origin airport where flight starts (IATA code)\n",
    "| `airline`    | Carrier/airline name                        |\n",
    "| `dest`       | Destination airport where flight lands (IATA code)  \n",
    "\n",
    "- `flights_weather2022.csv` contains the same flight information as well as weather conditions such as \n",
    " \n",
    "| Variable   | Description                                           |\n",
    "|------------|-------------------------------------------------------|\n",
    "| `visib`      | Visibility (in miles)                                 |\n",
    "| `wind_gust`  | Wind gust speed (in mph)  "
   ]
  },
  {
   "cell_type": "markdown",
   "id": "699947f9-76a2-42df-8059-9abe6071b52f",
   "metadata": {},
   "source": [
    "## Import Packages and Data"
   ]
  },
  {
   "cell_type": "code",
   "execution_count": 1,
   "id": "ebe7f904-ae87-444c-8b2c-4079a9fbc5fe",
   "metadata": {
    "executionCancelledAt": null,
    "executionTime": 48,
    "lastExecutedAt": 1741199628576,
    "lastExecutedByKernel": "31899af1-5fd7-46de-8603-afa7d4d0b6e9",
    "lastScheduledRunId": null,
    "lastSuccessfullyExecutedCode": "# Import required libraries\nimport pandas as pd\nimport matplotlib.pyplot as plt\nimport numpy as np"
   },
   "outputs": [],
   "source": [
    "# Import required libraries\n",
    "import pandas as pd\n",
    "import matplotlib.pyplot as plt\n",
    "import numpy as np"
   ]
  },
  {
   "cell_type": "code",
   "execution_count": 2,
   "id": "d3a996cf-dff2-4553-8efe-f6f2f82cd181",
   "metadata": {
    "executionCancelledAt": null,
    "executionTime": 349,
    "lastExecutedAt": 1741199628925,
    "lastExecutedByKernel": "31899af1-5fd7-46de-8603-afa7d4d0b6e9",
    "lastScheduledRunId": null,
    "lastSuccessfullyExecutedCode": "# import data\nflights = pd.read_csv(\"flights2022.csv\")\nweather = pd.read_csv(\"flights_weather2022.csv\")"
   },
   "outputs": [],
   "source": [
    "# import data\n",
    "flights = pd.read_csv(\"flights2022.csv\")\n",
    "weather = pd.read_csv(\"flights_weather2022.csv\")"
   ]
  },
  {
   "cell_type": "markdown",
   "id": "31ac363b-9077-49d3-9ea3-0d0658298ce5",
   "metadata": {},
   "source": [
    "### Review the data"
   ]
  },
  {
   "cell_type": "code",
   "execution_count": 3,
   "id": "89b1be7d-fea6-46ed-b4cd-466bdf00cd94",
   "metadata": {
    "executionCancelledAt": null,
    "executionTime": 62,
    "lastExecutedAt": 1741199628988,
    "lastExecutedByKernel": "31899af1-5fd7-46de-8603-afa7d4d0b6e9",
    "lastScheduledRunId": null,
    "lastSuccessfullyExecutedCode": "# flights data\nflights.head()",
    "outputsMetadata": {
     "0": {
      "height": 550,
      "tableState": {
       "customFilter": {
        "const": {
         "type": "boolean",
         "valid": true,
         "value": true
        },
        "id": "1d1a48da-85d6-4cab-90eb-8553474bff53",
        "nodeType": "const"
       },
       "quickFilterText": ""
      },
      "type": "dataFrame"
     }
    }
   },
   "outputs": [
    {
     "data": {
      "application/vnd.microsoft.datawrangler.viewer.v0+json": {
       "columns": [
        {
         "name": "index",
         "rawType": "int64",
         "type": "integer"
        },
        {
         "name": "year",
         "rawType": "int64",
         "type": "integer"
        },
        {
         "name": "month",
         "rawType": "int64",
         "type": "integer"
        },
        {
         "name": "day",
         "rawType": "int64",
         "type": "integer"
        },
        {
         "name": "dep_time",
         "rawType": "float64",
         "type": "float"
        },
        {
         "name": "sched_dep_time",
         "rawType": "int64",
         "type": "integer"
        },
        {
         "name": "dep_delay",
         "rawType": "float64",
         "type": "float"
        },
        {
         "name": "arr_time",
         "rawType": "float64",
         "type": "float"
        },
        {
         "name": "sched_arr_time",
         "rawType": "int64",
         "type": "integer"
        },
        {
         "name": "arr_delay",
         "rawType": "float64",
         "type": "float"
        },
        {
         "name": "carrier",
         "rawType": "object",
         "type": "string"
        },
        {
         "name": "flight",
         "rawType": "int64",
         "type": "integer"
        },
        {
         "name": "tailnum",
         "rawType": "object",
         "type": "string"
        },
        {
         "name": "origin",
         "rawType": "object",
         "type": "string"
        },
        {
         "name": "dest",
         "rawType": "object",
         "type": "string"
        },
        {
         "name": "air_time",
         "rawType": "float64",
         "type": "float"
        },
        {
         "name": "distance",
         "rawType": "int64",
         "type": "integer"
        },
        {
         "name": "hour",
         "rawType": "int64",
         "type": "integer"
        },
        {
         "name": "minute",
         "rawType": "int64",
         "type": "integer"
        },
        {
         "name": "time_hour",
         "rawType": "object",
         "type": "string"
        },
        {
         "name": "airline",
         "rawType": "object",
         "type": "string"
        }
       ],
       "conversionMethod": "pd.DataFrame",
       "ref": "2df60487-a915-4055-85bf-383ce6433995",
       "rows": [
        [
         "0",
         "2022",
         "1",
         "1",
         "1.0",
         "2359",
         "2.0",
         "604.0",
         "618",
         "-14.0",
         "UA",
         "555",
         "N405UA",
         "SEA",
         "IAH",
         "221.0",
         "1874",
         "23",
         "59",
         "2022-01-01T23:00:00Z",
         "United Air Lines Inc."
        ],
        [
         "1",
         "2022",
         "1",
         "1",
         "1.0",
         "2250",
         "71.0",
         "242.0",
         "142",
         "60.0",
         "AS",
         "72",
         "N265AK",
         "SEA",
         "FAI",
         "193.0",
         "1533",
         "22",
         "50",
         "2022-01-01T22:00:00Z",
         "Alaska Airlines Inc."
        ],
        [
         "2",
         "2022",
         "1",
         "1",
         "10.0",
         "2355",
         "15.0",
         "759.0",
         "730",
         "29.0",
         "AS",
         "270",
         "N274AK",
         "SEA",
         "ATL",
         "261.0",
         "2182",
         "23",
         "55",
         "2022-01-01T23:00:00Z",
         "Alaska Airlines Inc."
        ],
        [
         "3",
         "2022",
         "1",
         "1",
         "25.0",
         "2350",
         "35.0",
         "606.0",
         "550",
         "16.0",
         "AS",
         "7",
         "N281AK",
         "SEA",
         "ORD",
         "193.0",
         "1721",
         "23",
         "50",
         "2022-01-01T23:00:00Z",
         "Alaska Airlines Inc."
        ],
        [
         "4",
         "2022",
         "1",
         "1",
         "35.0",
         "2349",
         "46.0",
         "616.0",
         "545",
         "31.0",
         "UA",
         "507",
         "N426UA",
         "PDX",
         "ORD",
         "196.0",
         "1739",
         "23",
         "49",
         "2022-01-01T23:00:00Z",
         "United Air Lines Inc."
        ]
       ],
       "shape": {
        "columns": 20,
        "rows": 5
       }
      },
      "text/html": [
       "<div>\n",
       "<style scoped>\n",
       "    .dataframe tbody tr th:only-of-type {\n",
       "        vertical-align: middle;\n",
       "    }\n",
       "\n",
       "    .dataframe tbody tr th {\n",
       "        vertical-align: top;\n",
       "    }\n",
       "\n",
       "    .dataframe thead th {\n",
       "        text-align: right;\n",
       "    }\n",
       "</style>\n",
       "<table border=\"1\" class=\"dataframe\">\n",
       "  <thead>\n",
       "    <tr style=\"text-align: right;\">\n",
       "      <th></th>\n",
       "      <th>year</th>\n",
       "      <th>month</th>\n",
       "      <th>day</th>\n",
       "      <th>dep_time</th>\n",
       "      <th>sched_dep_time</th>\n",
       "      <th>dep_delay</th>\n",
       "      <th>arr_time</th>\n",
       "      <th>sched_arr_time</th>\n",
       "      <th>arr_delay</th>\n",
       "      <th>carrier</th>\n",
       "      <th>flight</th>\n",
       "      <th>tailnum</th>\n",
       "      <th>origin</th>\n",
       "      <th>dest</th>\n",
       "      <th>air_time</th>\n",
       "      <th>distance</th>\n",
       "      <th>hour</th>\n",
       "      <th>minute</th>\n",
       "      <th>time_hour</th>\n",
       "      <th>airline</th>\n",
       "    </tr>\n",
       "  </thead>\n",
       "  <tbody>\n",
       "    <tr>\n",
       "      <th>0</th>\n",
       "      <td>2022</td>\n",
       "      <td>1</td>\n",
       "      <td>1</td>\n",
       "      <td>1.0</td>\n",
       "      <td>2359</td>\n",
       "      <td>2.0</td>\n",
       "      <td>604.0</td>\n",
       "      <td>618</td>\n",
       "      <td>-14.0</td>\n",
       "      <td>UA</td>\n",
       "      <td>555</td>\n",
       "      <td>N405UA</td>\n",
       "      <td>SEA</td>\n",
       "      <td>IAH</td>\n",
       "      <td>221.0</td>\n",
       "      <td>1874</td>\n",
       "      <td>23</td>\n",
       "      <td>59</td>\n",
       "      <td>2022-01-01T23:00:00Z</td>\n",
       "      <td>United Air Lines Inc.</td>\n",
       "    </tr>\n",
       "    <tr>\n",
       "      <th>1</th>\n",
       "      <td>2022</td>\n",
       "      <td>1</td>\n",
       "      <td>1</td>\n",
       "      <td>1.0</td>\n",
       "      <td>2250</td>\n",
       "      <td>71.0</td>\n",
       "      <td>242.0</td>\n",
       "      <td>142</td>\n",
       "      <td>60.0</td>\n",
       "      <td>AS</td>\n",
       "      <td>72</td>\n",
       "      <td>N265AK</td>\n",
       "      <td>SEA</td>\n",
       "      <td>FAI</td>\n",
       "      <td>193.0</td>\n",
       "      <td>1533</td>\n",
       "      <td>22</td>\n",
       "      <td>50</td>\n",
       "      <td>2022-01-01T22:00:00Z</td>\n",
       "      <td>Alaska Airlines Inc.</td>\n",
       "    </tr>\n",
       "    <tr>\n",
       "      <th>2</th>\n",
       "      <td>2022</td>\n",
       "      <td>1</td>\n",
       "      <td>1</td>\n",
       "      <td>10.0</td>\n",
       "      <td>2355</td>\n",
       "      <td>15.0</td>\n",
       "      <td>759.0</td>\n",
       "      <td>730</td>\n",
       "      <td>29.0</td>\n",
       "      <td>AS</td>\n",
       "      <td>270</td>\n",
       "      <td>N274AK</td>\n",
       "      <td>SEA</td>\n",
       "      <td>ATL</td>\n",
       "      <td>261.0</td>\n",
       "      <td>2182</td>\n",
       "      <td>23</td>\n",
       "      <td>55</td>\n",
       "      <td>2022-01-01T23:00:00Z</td>\n",
       "      <td>Alaska Airlines Inc.</td>\n",
       "    </tr>\n",
       "    <tr>\n",
       "      <th>3</th>\n",
       "      <td>2022</td>\n",
       "      <td>1</td>\n",
       "      <td>1</td>\n",
       "      <td>25.0</td>\n",
       "      <td>2350</td>\n",
       "      <td>35.0</td>\n",
       "      <td>606.0</td>\n",
       "      <td>550</td>\n",
       "      <td>16.0</td>\n",
       "      <td>AS</td>\n",
       "      <td>7</td>\n",
       "      <td>N281AK</td>\n",
       "      <td>SEA</td>\n",
       "      <td>ORD</td>\n",
       "      <td>193.0</td>\n",
       "      <td>1721</td>\n",
       "      <td>23</td>\n",
       "      <td>50</td>\n",
       "      <td>2022-01-01T23:00:00Z</td>\n",
       "      <td>Alaska Airlines Inc.</td>\n",
       "    </tr>\n",
       "    <tr>\n",
       "      <th>4</th>\n",
       "      <td>2022</td>\n",
       "      <td>1</td>\n",
       "      <td>1</td>\n",
       "      <td>35.0</td>\n",
       "      <td>2349</td>\n",
       "      <td>46.0</td>\n",
       "      <td>616.0</td>\n",
       "      <td>545</td>\n",
       "      <td>31.0</td>\n",
       "      <td>UA</td>\n",
       "      <td>507</td>\n",
       "      <td>N426UA</td>\n",
       "      <td>PDX</td>\n",
       "      <td>ORD</td>\n",
       "      <td>196.0</td>\n",
       "      <td>1739</td>\n",
       "      <td>23</td>\n",
       "      <td>49</td>\n",
       "      <td>2022-01-01T23:00:00Z</td>\n",
       "      <td>United Air Lines Inc.</td>\n",
       "    </tr>\n",
       "  </tbody>\n",
       "</table>\n",
       "</div>"
      ],
      "text/plain": [
       "   year  month  day  dep_time  sched_dep_time  dep_delay  arr_time  \\\n",
       "0  2022      1    1       1.0            2359        2.0     604.0   \n",
       "1  2022      1    1       1.0            2250       71.0     242.0   \n",
       "2  2022      1    1      10.0            2355       15.0     759.0   \n",
       "3  2022      1    1      25.0            2350       35.0     606.0   \n",
       "4  2022      1    1      35.0            2349       46.0     616.0   \n",
       "\n",
       "   sched_arr_time  arr_delay carrier  flight tailnum origin dest  air_time  \\\n",
       "0             618      -14.0      UA     555  N405UA    SEA  IAH     221.0   \n",
       "1             142       60.0      AS      72  N265AK    SEA  FAI     193.0   \n",
       "2             730       29.0      AS     270  N274AK    SEA  ATL     261.0   \n",
       "3             550       16.0      AS       7  N281AK    SEA  ORD     193.0   \n",
       "4             545       31.0      UA     507  N426UA    PDX  ORD     196.0   \n",
       "\n",
       "   distance  hour  minute             time_hour                airline  \n",
       "0      1874    23      59  2022-01-01T23:00:00Z  United Air Lines Inc.  \n",
       "1      1533    22      50  2022-01-01T22:00:00Z   Alaska Airlines Inc.  \n",
       "2      2182    23      55  2022-01-01T23:00:00Z   Alaska Airlines Inc.  \n",
       "3      1721    23      50  2022-01-01T23:00:00Z   Alaska Airlines Inc.  \n",
       "4      1739    23      49  2022-01-01T23:00:00Z  United Air Lines Inc.  "
      ]
     },
     "execution_count": 3,
     "metadata": {},
     "output_type": "execute_result"
    }
   ],
   "source": [
    "# flights data\n",
    "flights.head()"
   ]
  },
  {
   "cell_type": "code",
   "execution_count": 5,
   "id": "9885cc4d-70ed-406f-9d47-e1f82c388130",
   "metadata": {
    "executionCancelledAt": null,
    "executionTime": null,
    "lastExecutedAt": null,
    "lastExecutedByKernel": null,
    "lastScheduledRunId": null,
    "lastSuccessfullyExecutedCode": null,
    "outputsMetadata": {
     "0": {
      "height": 584,
      "type": "stream"
     }
    }
   },
   "outputs": [
    {
     "name": "stdout",
     "output_type": "stream",
     "text": [
      "<class 'pandas.core.frame.DataFrame'>\n",
      "RangeIndex: 111376 entries, 0 to 111375\n",
      "Data columns (total 20 columns):\n",
      " #   Column          Non-Null Count   Dtype  \n",
      "---  ------          --------------   -----  \n",
      " 0   year            111376 non-null  int64  \n",
      " 1   month           111376 non-null  int64  \n",
      " 2   day             111376 non-null  int64  \n",
      " 3   dep_time        108931 non-null  float64\n",
      " 4   sched_dep_time  111376 non-null  int64  \n",
      " 5   dep_delay       108931 non-null  float64\n",
      " 6   arr_time        108834 non-null  float64\n",
      " 7   sched_arr_time  111376 non-null  int64  \n",
      " 8   arr_delay       108697 non-null  float64\n",
      " 9   carrier         111376 non-null  object \n",
      " 10  flight          111376 non-null  int64  \n",
      " 11  tailnum         111247 non-null  object \n",
      " 12  origin          111376 non-null  object \n",
      " 13  dest            111376 non-null  object \n",
      " 14  air_time        108697 non-null  float64\n",
      " 15  distance        111376 non-null  int64  \n",
      " 16  hour            111376 non-null  int64  \n",
      " 17  minute          111376 non-null  int64  \n",
      " 18  time_hour       111376 non-null  object \n",
      " 19  airline         111376 non-null  object \n",
      "dtypes: float64(5), int64(9), object(6)\n",
      "memory usage: 17.0+ MB\n"
     ]
    }
   ],
   "source": [
    "# check the structure of the data\n",
    "flights.info()"
   ]
  },
  {
   "cell_type": "code",
   "execution_count": 6,
   "id": "6eeb6501-2c8a-4e09-9698-42ef6bc390ad",
   "metadata": {
    "executionCancelledAt": null,
    "executionTime": null,
    "lastExecutedAt": null,
    "lastExecutedByKernel": null,
    "lastScheduledRunId": null,
    "lastSuccessfullyExecutedCode": null,
    "outputsMetadata": {
     "0": {
      "height": 550,
      "tableState": {
       "customFilter": {
        "const": {
         "type": "boolean",
         "valid": true,
         "value": true
        },
        "id": "1d1a48da-85d6-4cab-90eb-8553474bff53",
        "nodeType": "const"
       },
       "quickFilterText": ""
      },
      "type": "dataFrame"
     }
    }
   },
   "outputs": [
    {
     "data": {
      "application/vnd.microsoft.datawrangler.viewer.v0+json": {
       "columns": [
        {
         "name": "index",
         "rawType": "int64",
         "type": "integer"
        },
        {
         "name": "year",
         "rawType": "int64",
         "type": "integer"
        },
        {
         "name": "month",
         "rawType": "int64",
         "type": "integer"
        },
        {
         "name": "day",
         "rawType": "int64",
         "type": "integer"
        },
        {
         "name": "dep_time",
         "rawType": "float64",
         "type": "float"
        },
        {
         "name": "sched_dep_time",
         "rawType": "int64",
         "type": "integer"
        },
        {
         "name": "dep_delay",
         "rawType": "float64",
         "type": "float"
        },
        {
         "name": "arr_time",
         "rawType": "float64",
         "type": "float"
        },
        {
         "name": "sched_arr_time",
         "rawType": "int64",
         "type": "integer"
        },
        {
         "name": "arr_delay",
         "rawType": "float64",
         "type": "float"
        },
        {
         "name": "carrier",
         "rawType": "object",
         "type": "string"
        },
        {
         "name": "flight",
         "rawType": "int64",
         "type": "integer"
        },
        {
         "name": "tailnum",
         "rawType": "object",
         "type": "string"
        },
        {
         "name": "origin",
         "rawType": "object",
         "type": "string"
        },
        {
         "name": "dest",
         "rawType": "object",
         "type": "string"
        },
        {
         "name": "air_time",
         "rawType": "float64",
         "type": "float"
        },
        {
         "name": "distance",
         "rawType": "int64",
         "type": "integer"
        },
        {
         "name": "hour",
         "rawType": "int64",
         "type": "integer"
        },
        {
         "name": "minute",
         "rawType": "int64",
         "type": "integer"
        },
        {
         "name": "airline",
         "rawType": "object",
         "type": "string"
        },
        {
         "name": "route",
         "rawType": "object",
         "type": "string"
        },
        {
         "name": "temp",
         "rawType": "float64",
         "type": "float"
        },
        {
         "name": "dewp",
         "rawType": "float64",
         "type": "float"
        },
        {
         "name": "humid",
         "rawType": "float64",
         "type": "float"
        },
        {
         "name": "wind_dir",
         "rawType": "float64",
         "type": "float"
        },
        {
         "name": "wind_speed",
         "rawType": "float64",
         "type": "float"
        },
        {
         "name": "wind_gust",
         "rawType": "float64",
         "type": "float"
        },
        {
         "name": "precip",
         "rawType": "float64",
         "type": "float"
        },
        {
         "name": "pressure",
         "rawType": "float64",
         "type": "float"
        },
        {
         "name": "visib",
         "rawType": "float64",
         "type": "float"
        }
       ],
       "conversionMethod": "pd.DataFrame",
       "ref": "c946b270-ba4e-440d-8e1b-19158b0e9bbc",
       "rows": [
        [
         "0",
         "2022",
         "1",
         "1",
         "1.0",
         "2359",
         "2.0",
         "604.0",
         "618",
         "-14.0",
         "UA",
         "555",
         "N405UA",
         "SEA",
         "IAH",
         "221.0",
         "1874",
         "23",
         "59",
         "United Air Lines Inc.",
         "SEA-IAH",
         "33.0",
         "23.0",
         "66.06",
         "160.0",
         "8.05546",
         "9.2700622588",
         "0.0",
         "1022.9",
         "10.0"
        ],
        [
         "1",
         "2022",
         "1",
         "1",
         "1.0",
         "2250",
         "71.0",
         "242.0",
         "142",
         "60.0",
         "AS",
         "72",
         "N265AK",
         "SEA",
         "FAI",
         "193.0",
         "1533",
         "22",
         "50",
         "Alaska Airlines Inc.",
         "SEA-FAI",
         "32.0",
         "23.0",
         "69.04",
         "170.0",
         "9.20624",
         "10.594356867199998",
         "0.0",
         "1023.4",
         "10.0"
        ],
        [
         "2",
         "2022",
         "1",
         "1",
         "10.0",
         "2355",
         "15.0",
         "759.0",
         "730",
         "29.0",
         "AS",
         "270",
         "N274AK",
         "SEA",
         "ATL",
         "261.0",
         "2182",
         "23",
         "55",
         "Alaska Airlines Inc.",
         "SEA-ATL",
         "33.0",
         "23.0",
         "66.06",
         "160.0",
         "8.05546",
         "9.2700622588",
         "0.0",
         "1022.9",
         "10.0"
        ],
        [
         "3",
         "2022",
         "1",
         "1",
         "25.0",
         "2350",
         "35.0",
         "606.0",
         "550",
         "16.0",
         "AS",
         "7",
         "N281AK",
         "SEA",
         "ORD",
         "193.0",
         "1721",
         "23",
         "50",
         "Alaska Airlines Inc.",
         "SEA-ORD",
         "33.0",
         "23.0",
         "66.06",
         "160.0",
         "8.05546",
         "9.2700622588",
         "0.0",
         "1022.9",
         "10.0"
        ],
        [
         "4",
         "2022",
         "1",
         "1",
         "35.0",
         "2349",
         "46.0",
         "616.0",
         "545",
         "31.0",
         "UA",
         "507",
         "N426UA",
         "PDX",
         "ORD",
         "196.0",
         "1739",
         "23",
         "49",
         "United Air Lines Inc.",
         "PDX-ORD",
         "33.0",
         "19.0",
         "55.75",
         "120.0",
         "6.904679999999999",
         "7.945767650399998",
         "0.0",
         "1025.1",
         "10.0"
        ]
       ],
       "shape": {
        "columns": 29,
        "rows": 5
       }
      },
      "text/html": [
       "<div>\n",
       "<style scoped>\n",
       "    .dataframe tbody tr th:only-of-type {\n",
       "        vertical-align: middle;\n",
       "    }\n",
       "\n",
       "    .dataframe tbody tr th {\n",
       "        vertical-align: top;\n",
       "    }\n",
       "\n",
       "    .dataframe thead th {\n",
       "        text-align: right;\n",
       "    }\n",
       "</style>\n",
       "<table border=\"1\" class=\"dataframe\">\n",
       "  <thead>\n",
       "    <tr style=\"text-align: right;\">\n",
       "      <th></th>\n",
       "      <th>year</th>\n",
       "      <th>month</th>\n",
       "      <th>day</th>\n",
       "      <th>dep_time</th>\n",
       "      <th>sched_dep_time</th>\n",
       "      <th>dep_delay</th>\n",
       "      <th>arr_time</th>\n",
       "      <th>sched_arr_time</th>\n",
       "      <th>arr_delay</th>\n",
       "      <th>carrier</th>\n",
       "      <th>...</th>\n",
       "      <th>route</th>\n",
       "      <th>temp</th>\n",
       "      <th>dewp</th>\n",
       "      <th>humid</th>\n",
       "      <th>wind_dir</th>\n",
       "      <th>wind_speed</th>\n",
       "      <th>wind_gust</th>\n",
       "      <th>precip</th>\n",
       "      <th>pressure</th>\n",
       "      <th>visib</th>\n",
       "    </tr>\n",
       "  </thead>\n",
       "  <tbody>\n",
       "    <tr>\n",
       "      <th>0</th>\n",
       "      <td>2022</td>\n",
       "      <td>1</td>\n",
       "      <td>1</td>\n",
       "      <td>1.0</td>\n",
       "      <td>2359</td>\n",
       "      <td>2.0</td>\n",
       "      <td>604.0</td>\n",
       "      <td>618</td>\n",
       "      <td>-14.0</td>\n",
       "      <td>UA</td>\n",
       "      <td>...</td>\n",
       "      <td>SEA-IAH</td>\n",
       "      <td>33.0</td>\n",
       "      <td>23.0</td>\n",
       "      <td>66.06</td>\n",
       "      <td>160.0</td>\n",
       "      <td>8.05546</td>\n",
       "      <td>9.270062</td>\n",
       "      <td>0.0</td>\n",
       "      <td>1022.9</td>\n",
       "      <td>10.0</td>\n",
       "    </tr>\n",
       "    <tr>\n",
       "      <th>1</th>\n",
       "      <td>2022</td>\n",
       "      <td>1</td>\n",
       "      <td>1</td>\n",
       "      <td>1.0</td>\n",
       "      <td>2250</td>\n",
       "      <td>71.0</td>\n",
       "      <td>242.0</td>\n",
       "      <td>142</td>\n",
       "      <td>60.0</td>\n",
       "      <td>AS</td>\n",
       "      <td>...</td>\n",
       "      <td>SEA-FAI</td>\n",
       "      <td>32.0</td>\n",
       "      <td>23.0</td>\n",
       "      <td>69.04</td>\n",
       "      <td>170.0</td>\n",
       "      <td>9.20624</td>\n",
       "      <td>10.594357</td>\n",
       "      <td>0.0</td>\n",
       "      <td>1023.4</td>\n",
       "      <td>10.0</td>\n",
       "    </tr>\n",
       "    <tr>\n",
       "      <th>2</th>\n",
       "      <td>2022</td>\n",
       "      <td>1</td>\n",
       "      <td>1</td>\n",
       "      <td>10.0</td>\n",
       "      <td>2355</td>\n",
       "      <td>15.0</td>\n",
       "      <td>759.0</td>\n",
       "      <td>730</td>\n",
       "      <td>29.0</td>\n",
       "      <td>AS</td>\n",
       "      <td>...</td>\n",
       "      <td>SEA-ATL</td>\n",
       "      <td>33.0</td>\n",
       "      <td>23.0</td>\n",
       "      <td>66.06</td>\n",
       "      <td>160.0</td>\n",
       "      <td>8.05546</td>\n",
       "      <td>9.270062</td>\n",
       "      <td>0.0</td>\n",
       "      <td>1022.9</td>\n",
       "      <td>10.0</td>\n",
       "    </tr>\n",
       "    <tr>\n",
       "      <th>3</th>\n",
       "      <td>2022</td>\n",
       "      <td>1</td>\n",
       "      <td>1</td>\n",
       "      <td>25.0</td>\n",
       "      <td>2350</td>\n",
       "      <td>35.0</td>\n",
       "      <td>606.0</td>\n",
       "      <td>550</td>\n",
       "      <td>16.0</td>\n",
       "      <td>AS</td>\n",
       "      <td>...</td>\n",
       "      <td>SEA-ORD</td>\n",
       "      <td>33.0</td>\n",
       "      <td>23.0</td>\n",
       "      <td>66.06</td>\n",
       "      <td>160.0</td>\n",
       "      <td>8.05546</td>\n",
       "      <td>9.270062</td>\n",
       "      <td>0.0</td>\n",
       "      <td>1022.9</td>\n",
       "      <td>10.0</td>\n",
       "    </tr>\n",
       "    <tr>\n",
       "      <th>4</th>\n",
       "      <td>2022</td>\n",
       "      <td>1</td>\n",
       "      <td>1</td>\n",
       "      <td>35.0</td>\n",
       "      <td>2349</td>\n",
       "      <td>46.0</td>\n",
       "      <td>616.0</td>\n",
       "      <td>545</td>\n",
       "      <td>31.0</td>\n",
       "      <td>UA</td>\n",
       "      <td>...</td>\n",
       "      <td>PDX-ORD</td>\n",
       "      <td>33.0</td>\n",
       "      <td>19.0</td>\n",
       "      <td>55.75</td>\n",
       "      <td>120.0</td>\n",
       "      <td>6.90468</td>\n",
       "      <td>7.945768</td>\n",
       "      <td>0.0</td>\n",
       "      <td>1025.1</td>\n",
       "      <td>10.0</td>\n",
       "    </tr>\n",
       "  </tbody>\n",
       "</table>\n",
       "<p>5 rows × 29 columns</p>\n",
       "</div>"
      ],
      "text/plain": [
       "   year  month  day  dep_time  sched_dep_time  dep_delay  arr_time  \\\n",
       "0  2022      1    1       1.0            2359        2.0     604.0   \n",
       "1  2022      1    1       1.0            2250       71.0     242.0   \n",
       "2  2022      1    1      10.0            2355       15.0     759.0   \n",
       "3  2022      1    1      25.0            2350       35.0     606.0   \n",
       "4  2022      1    1      35.0            2349       46.0     616.0   \n",
       "\n",
       "   sched_arr_time  arr_delay carrier  ...    route  temp  dewp  humid  \\\n",
       "0             618      -14.0      UA  ...  SEA-IAH  33.0  23.0  66.06   \n",
       "1             142       60.0      AS  ...  SEA-FAI  32.0  23.0  69.04   \n",
       "2             730       29.0      AS  ...  SEA-ATL  33.0  23.0  66.06   \n",
       "3             550       16.0      AS  ...  SEA-ORD  33.0  23.0  66.06   \n",
       "4             545       31.0      UA  ...  PDX-ORD  33.0  19.0  55.75   \n",
       "\n",
       "   wind_dir  wind_speed  wind_gust  precip pressure visib  \n",
       "0     160.0     8.05546   9.270062     0.0   1022.9  10.0  \n",
       "1     170.0     9.20624  10.594357     0.0   1023.4  10.0  \n",
       "2     160.0     8.05546   9.270062     0.0   1022.9  10.0  \n",
       "3     160.0     8.05546   9.270062     0.0   1022.9  10.0  \n",
       "4     120.0     6.90468   7.945768     0.0   1025.1  10.0  \n",
       "\n",
       "[5 rows x 29 columns]"
      ]
     },
     "execution_count": 6,
     "metadata": {},
     "output_type": "execute_result"
    }
   ],
   "source": [
    "# weather data - same thing here, check the structure and look of the data\n",
    "weather.head()"
   ]
  },
  {
   "cell_type": "code",
   "execution_count": 7,
   "id": "f34fb91f-19f1-4da0-8007-fde8c5b73dbe",
   "metadata": {
    "executionCancelledAt": null,
    "executionTime": 94,
    "lastExecutedAt": 1741199629243,
    "lastExecutedByKernel": "31899af1-5fd7-46de-8603-afa7d4d0b6e9",
    "lastScheduledRunId": null,
    "lastSuccessfullyExecutedCode": "weather.info()",
    "outputsMetadata": {
     "0": {
      "height": 616,
      "type": "stream"
     }
    }
   },
   "outputs": [
    {
     "name": "stdout",
     "output_type": "stream",
     "text": [
      "<class 'pandas.core.frame.DataFrame'>\n",
      "RangeIndex: 111006 entries, 0 to 111005\n",
      "Data columns (total 29 columns):\n",
      " #   Column          Non-Null Count   Dtype  \n",
      "---  ------          --------------   -----  \n",
      " 0   year            111006 non-null  int64  \n",
      " 1   month           111006 non-null  int64  \n",
      " 2   day             111006 non-null  int64  \n",
      " 3   dep_time        108566 non-null  float64\n",
      " 4   sched_dep_time  111006 non-null  int64  \n",
      " 5   dep_delay       108566 non-null  float64\n",
      " 6   arr_time        108469 non-null  float64\n",
      " 7   sched_arr_time  111006 non-null  int64  \n",
      " 8   arr_delay       108332 non-null  float64\n",
      " 9   carrier         111006 non-null  object \n",
      " 10  flight          111006 non-null  int64  \n",
      " 11  tailnum         110877 non-null  object \n",
      " 12  origin          111006 non-null  object \n",
      " 13  dest            111006 non-null  object \n",
      " 14  air_time        108332 non-null  float64\n",
      " 15  distance        111006 non-null  int64  \n",
      " 16  hour            111006 non-null  int64  \n",
      " 17  minute          111006 non-null  int64  \n",
      " 18  airline         111006 non-null  object \n",
      " 19  route           111006 non-null  object \n",
      " 20  temp            111006 non-null  float64\n",
      " 21  dewp            111006 non-null  float64\n",
      " 22  humid           111006 non-null  float64\n",
      " 23  wind_dir        107843 non-null  float64\n",
      " 24  wind_speed      110727 non-null  float64\n",
      " 25  wind_gust       110727 non-null  float64\n",
      " 26  precip          111006 non-null  float64\n",
      " 27  pressure        111006 non-null  float64\n",
      " 28  visib           111006 non-null  float64\n",
      "dtypes: float64(14), int64(9), object(6)\n",
      "memory usage: 24.6+ MB\n"
     ]
    }
   ],
   "source": [
    "weather.info()"
   ]
  },
  {
   "cell_type": "markdown",
   "id": "0bb33c3d-0358-47b2-bb54-28f20d5163b1",
   "metadata": {},
   "source": [
    "### Task 1"
   ]
  },
  {
   "cell_type": "markdown",
   "id": "d35c4c77-d389-44b1-a412-1cb3e34868b4",
   "metadata": {},
   "source": [
    "For routes, calculate the average departure delays and highest number of canceled flights."
   ]
  },
  {
   "cell_type": "code",
   "execution_count": 8,
   "id": "bff3f5df-6067-47ef-bdab-0f7e0f9f7d1c",
   "metadata": {
    "executionCancelledAt": null,
    "executionTime": 61,
    "lastExecutedAt": 1741199629304,
    "lastExecutedByKernel": "31899af1-5fd7-46de-8603-afa7d4d0b6e9",
    "lastScheduledRunId": null,
    "lastSuccessfullyExecutedCode": "# join the origin and dest columms to create route\nflights['route'] = flights['origin'] + '-' + flights['dest']\nflights['route'].head()",
    "outputsMetadata": {
     "0": {
      "height": 550,
      "tableState": {
       "customFilter": {
        "const": {
         "type": "boolean",
         "valid": true,
         "value": true
        },
        "id": "1d1a48da-85d6-4cab-90eb-8553474bff53",
        "nodeType": "const"
       },
       "quickFilterText": ""
      },
      "type": "dataFrame"
     }
    }
   },
   "outputs": [
    {
     "data": {
      "text/plain": [
       "0    SEA-IAH\n",
       "1    SEA-FAI\n",
       "2    SEA-ATL\n",
       "3    SEA-ORD\n",
       "4    PDX-ORD\n",
       "Name: route, dtype: object"
      ]
     },
     "execution_count": 8,
     "metadata": {},
     "output_type": "execute_result"
    }
   ],
   "source": [
    "# join the origin and dest columms to create route\n",
    "flights['route'] = flights['origin'] + '-' + flights['dest']\n",
    "flights['route'].head()"
   ]
  },
  {
   "cell_type": "code",
   "execution_count": 10,
   "id": "48423052-f74f-40ab-9ae0-3548f9db70a6",
   "metadata": {
    "executionCancelledAt": null,
    "executionTime": null,
    "lastExecutedAt": null,
    "lastExecutedByKernel": null,
    "lastScheduledRunId": null,
    "lastSuccessfullyExecutedCode": null,
    "outputsMetadata": {
     "0": {
      "height": 50,
      "tableState": {
       "customFilter": {
        "const": {
         "type": "boolean",
         "valid": true,
         "value": true
        },
        "id": "1d1a48da-85d6-4cab-90eb-8553474bff53",
        "nodeType": "const"
       },
       "quickFilterText": ""
      },
      "type": "dataFrame"
     }
    }
   },
   "outputs": [
    {
     "data": {
      "application/vnd.microsoft.datawrangler.viewer.v0+json": {
       "columns": [
        {
         "name": "index",
         "rawType": "int64",
         "type": "integer"
        },
        {
         "name": "route",
         "rawType": "object",
         "type": "string"
        },
        {
         "name": "dep_delay",
         "rawType": "float64",
         "type": "float"
        },
        {
         "name": "total_cancellations",
         "rawType": "int32",
         "type": "integer"
        }
       ],
       "conversionMethod": "pd.DataFrame",
       "ref": "8762ccf7-7967-4dcc-8db1-19d42206fc04",
       "rows": [
        [
         "0",
         "PDX-ABQ",
         "1.0980392156862746",
         "2"
        ],
        [
         "1",
         "PDX-ANC",
         "4.748936170212766",
         "4"
        ],
        [
         "2",
         "PDX-ATL",
         "7.020979020979021",
         "13"
        ],
        [
         "3",
         "PDX-AUS",
         "5.4353741496598635",
         "5"
        ],
        [
         "4",
         "PDX-BOI",
         "5.136429608127721",
         "7"
        ]
       ],
       "shape": {
        "columns": 3,
        "rows": 5
       }
      },
      "text/html": [
       "<div>\n",
       "<style scoped>\n",
       "    .dataframe tbody tr th:only-of-type {\n",
       "        vertical-align: middle;\n",
       "    }\n",
       "\n",
       "    .dataframe tbody tr th {\n",
       "        vertical-align: top;\n",
       "    }\n",
       "\n",
       "    .dataframe thead th {\n",
       "        text-align: right;\n",
       "    }\n",
       "</style>\n",
       "<table border=\"1\" class=\"dataframe\">\n",
       "  <thead>\n",
       "    <tr style=\"text-align: right;\">\n",
       "      <th></th>\n",
       "      <th>route</th>\n",
       "      <th>dep_delay</th>\n",
       "      <th>total_cancellations</th>\n",
       "    </tr>\n",
       "  </thead>\n",
       "  <tbody>\n",
       "    <tr>\n",
       "      <th>0</th>\n",
       "      <td>PDX-ABQ</td>\n",
       "      <td>1.098039</td>\n",
       "      <td>2</td>\n",
       "    </tr>\n",
       "    <tr>\n",
       "      <th>1</th>\n",
       "      <td>PDX-ANC</td>\n",
       "      <td>4.748936</td>\n",
       "      <td>4</td>\n",
       "    </tr>\n",
       "    <tr>\n",
       "      <th>2</th>\n",
       "      <td>PDX-ATL</td>\n",
       "      <td>7.020979</td>\n",
       "      <td>13</td>\n",
       "    </tr>\n",
       "    <tr>\n",
       "      <th>3</th>\n",
       "      <td>PDX-AUS</td>\n",
       "      <td>5.435374</td>\n",
       "      <td>5</td>\n",
       "    </tr>\n",
       "    <tr>\n",
       "      <th>4</th>\n",
       "      <td>PDX-BOI</td>\n",
       "      <td>5.136430</td>\n",
       "      <td>7</td>\n",
       "    </tr>\n",
       "  </tbody>\n",
       "</table>\n",
       "</div>"
      ],
      "text/plain": [
       "     route  dep_delay  total_cancellations\n",
       "0  PDX-ABQ   1.098039                    2\n",
       "1  PDX-ANC   4.748936                    4\n",
       "2  PDX-ATL   7.020979                   13\n",
       "3  PDX-AUS   5.435374                    5\n",
       "4  PDX-BOI   5.136430                    7"
      ]
     },
     "execution_count": 10,
     "metadata": {},
     "output_type": "execute_result"
    }
   ],
   "source": [
    "# where dep_time is null = cancelled flight\n",
    "flights['cancelled'] = np.where(flights['dep_time'].isnull(), 1, 0)\n",
    "\n",
    "# calculated the aggregated values\n",
    "routes_delays_cancels  = flights.groupby('route').agg({'dep_delay':'mean', 'cancelled':'sum'}).reset_index()\n",
    "\n",
    "# rename the column for cancellations\n",
    "routes_delays_cancels.rename(columns={'cancelled':'total_cancellations'}, inplace=True)\n",
    "routes_delays_cancels.head()"
   ]
  },
  {
   "cell_type": "markdown",
   "id": "17fcc702-d8ba-4407-8d1a-80ef03f60ffb",
   "metadata": {},
   "source": [
    "### Task 2\n",
    "\n",
    "For airlines, determine the average departure delays and the highest number of canceled flights."
   ]
  },
  {
   "cell_type": "code",
   "execution_count": 11,
   "id": "3508dec9-b089-4f48-921a-e617a6058764",
   "metadata": {
    "executionCancelledAt": null,
    "executionTime": 56,
    "lastExecutedAt": 1741199629408,
    "lastExecutedByKernel": "31899af1-5fd7-46de-8603-afa7d4d0b6e9",
    "lastScheduledRunId": null,
    "lastSuccessfullyExecutedCode": "# same as before, but the grouping variable is now airlines\n# first, let's check the airline names are correct\n\nflights['airline'].unique()",
    "outputsMetadata": {
     "0": {
      "height": 50,
      "tableState": {
       "customFilter": {
        "const": {
         "type": "boolean",
         "valid": true,
         "value": true
        },
        "id": "1d1a48da-85d6-4cab-90eb-8553474bff53",
        "nodeType": "const"
       },
       "quickFilterText": ""
      },
      "type": "dataFrame"
     }
    }
   },
   "outputs": [
    {
     "data": {
      "text/plain": [
       "array(['United Air Lines Inc.', 'Alaska Airlines Inc.', 'JetBlue Airways',\n",
       "       'American Airlines Inc.', 'Horizon Air', 'Southwest Airlines Co.',\n",
       "       'Delta Air Lines Inc.', 'SkyWest Airlines Inc.',\n",
       "       'Hawaiian Airlines Inc.', 'Spirit Air Lines',\n",
       "       'Frontier Airlines Inc.', 'Allegiant Air'], dtype=object)"
      ]
     },
     "execution_count": 11,
     "metadata": {},
     "output_type": "execute_result"
    }
   ],
   "source": [
    "# same as before, but the grouping variable is now airlines\n",
    "# first, let's check the airline names are correct\n",
    "\n",
    "flights['airline'].unique()"
   ]
  },
  {
   "cell_type": "code",
   "execution_count": 12,
   "id": "311bb295-1151-4a2f-b7cd-6d5a76f231fc",
   "metadata": {
    "executionCancelledAt": null,
    "executionTime": 52,
    "lastExecutedAt": 1741199629460,
    "lastExecutedByKernel": "31899af1-5fd7-46de-8603-afa7d4d0b6e9",
    "lastScheduledRunId": null,
    "lastSuccessfullyExecutedCode": "# repeat previous steps\n# group by and aggregate\nairlines_delays_cancels = flights.groupby('airline').agg({'dep_delay':'mean', 'cancelled':'sum'}).reset_index()\n\n# view dataframe\nairlines_delays_cancels",
    "outputsMetadata": {
     "0": {
      "height": 50,
      "tableState": {
       "customFilter": {
        "const": {
         "type": "boolean",
         "valid": true,
         "value": true
        },
        "id": "1d1a48da-85d6-4cab-90eb-8553474bff53",
        "nodeType": "const"
       },
       "quickFilterText": ""
      },
      "type": "dataFrame"
     }
    }
   },
   "outputs": [
    {
     "data": {
      "application/vnd.microsoft.datawrangler.viewer.v0+json": {
       "columns": [
        {
         "name": "index",
         "rawType": "int64",
         "type": "integer"
        },
        {
         "name": "airline",
         "rawType": "object",
         "type": "string"
        },
        {
         "name": "dep_delay",
         "rawType": "float64",
         "type": "float"
        },
        {
         "name": "cancelled",
         "rawType": "int32",
         "type": "integer"
        }
       ],
       "conversionMethod": "pd.DataFrame",
       "ref": "71c7e561-1502-4440-ab81-549bc184f55e",
       "rows": [
        [
         "0",
         "Alaska Airlines Inc.",
         "6.739281747500925",
         "1300"
        ],
        [
         "1",
         "Allegiant Air",
         "26.608695652173914",
         "6"
        ],
        [
         "2",
         "American Airlines Inc.",
         "20.12990264255911",
         "85"
        ],
        [
         "3",
         "Delta Air Lines Inc.",
         "10.648633609496724",
         "383"
        ],
        [
         "4",
         "Frontier Airlines Inc.",
         "14.355855855855856",
         "12"
        ],
        [
         "5",
         "Hawaiian Airlines Inc.",
         "8.186206896551724",
         "4"
        ],
        [
         "6",
         "Horizon Air",
         "6.270965432603805",
         "238"
        ],
        [
         "7",
         "JetBlue Airways",
         "42.14152410575428",
         "33"
        ],
        [
         "8",
         "SkyWest Airlines Inc.",
         "4.596560645259474",
         "165"
        ],
        [
         "9",
         "Southwest Airlines Co.",
         "11.407163323782235",
         "100"
        ],
        [
         "10",
         "Spirit Air Lines",
         "11.095757575757576",
         "39"
        ],
        [
         "11",
         "United Air Lines Inc.",
         "7.072115384615385",
         "80"
        ]
       ],
       "shape": {
        "columns": 3,
        "rows": 12
       }
      },
      "text/html": [
       "<div>\n",
       "<style scoped>\n",
       "    .dataframe tbody tr th:only-of-type {\n",
       "        vertical-align: middle;\n",
       "    }\n",
       "\n",
       "    .dataframe tbody tr th {\n",
       "        vertical-align: top;\n",
       "    }\n",
       "\n",
       "    .dataframe thead th {\n",
       "        text-align: right;\n",
       "    }\n",
       "</style>\n",
       "<table border=\"1\" class=\"dataframe\">\n",
       "  <thead>\n",
       "    <tr style=\"text-align: right;\">\n",
       "      <th></th>\n",
       "      <th>airline</th>\n",
       "      <th>dep_delay</th>\n",
       "      <th>cancelled</th>\n",
       "    </tr>\n",
       "  </thead>\n",
       "  <tbody>\n",
       "    <tr>\n",
       "      <th>0</th>\n",
       "      <td>Alaska Airlines Inc.</td>\n",
       "      <td>6.739282</td>\n",
       "      <td>1300</td>\n",
       "    </tr>\n",
       "    <tr>\n",
       "      <th>1</th>\n",
       "      <td>Allegiant Air</td>\n",
       "      <td>26.608696</td>\n",
       "      <td>6</td>\n",
       "    </tr>\n",
       "    <tr>\n",
       "      <th>2</th>\n",
       "      <td>American Airlines Inc.</td>\n",
       "      <td>20.129903</td>\n",
       "      <td>85</td>\n",
       "    </tr>\n",
       "    <tr>\n",
       "      <th>3</th>\n",
       "      <td>Delta Air Lines Inc.</td>\n",
       "      <td>10.648634</td>\n",
       "      <td>383</td>\n",
       "    </tr>\n",
       "    <tr>\n",
       "      <th>4</th>\n",
       "      <td>Frontier Airlines Inc.</td>\n",
       "      <td>14.355856</td>\n",
       "      <td>12</td>\n",
       "    </tr>\n",
       "    <tr>\n",
       "      <th>5</th>\n",
       "      <td>Hawaiian Airlines Inc.</td>\n",
       "      <td>8.186207</td>\n",
       "      <td>4</td>\n",
       "    </tr>\n",
       "    <tr>\n",
       "      <th>6</th>\n",
       "      <td>Horizon Air</td>\n",
       "      <td>6.270965</td>\n",
       "      <td>238</td>\n",
       "    </tr>\n",
       "    <tr>\n",
       "      <th>7</th>\n",
       "      <td>JetBlue Airways</td>\n",
       "      <td>42.141524</td>\n",
       "      <td>33</td>\n",
       "    </tr>\n",
       "    <tr>\n",
       "      <th>8</th>\n",
       "      <td>SkyWest Airlines Inc.</td>\n",
       "      <td>4.596561</td>\n",
       "      <td>165</td>\n",
       "    </tr>\n",
       "    <tr>\n",
       "      <th>9</th>\n",
       "      <td>Southwest Airlines Co.</td>\n",
       "      <td>11.407163</td>\n",
       "      <td>100</td>\n",
       "    </tr>\n",
       "    <tr>\n",
       "      <th>10</th>\n",
       "      <td>Spirit Air Lines</td>\n",
       "      <td>11.095758</td>\n",
       "      <td>39</td>\n",
       "    </tr>\n",
       "    <tr>\n",
       "      <th>11</th>\n",
       "      <td>United Air Lines Inc.</td>\n",
       "      <td>7.072115</td>\n",
       "      <td>80</td>\n",
       "    </tr>\n",
       "  </tbody>\n",
       "</table>\n",
       "</div>"
      ],
      "text/plain": [
       "                   airline  dep_delay  cancelled\n",
       "0     Alaska Airlines Inc.   6.739282       1300\n",
       "1            Allegiant Air  26.608696          6\n",
       "2   American Airlines Inc.  20.129903         85\n",
       "3     Delta Air Lines Inc.  10.648634        383\n",
       "4   Frontier Airlines Inc.  14.355856         12\n",
       "5   Hawaiian Airlines Inc.   8.186207          4\n",
       "6              Horizon Air   6.270965        238\n",
       "7          JetBlue Airways  42.141524         33\n",
       "8    SkyWest Airlines Inc.   4.596561        165\n",
       "9   Southwest Airlines Co.  11.407163        100\n",
       "10        Spirit Air Lines  11.095758         39\n",
       "11   United Air Lines Inc.   7.072115         80"
      ]
     },
     "execution_count": 12,
     "metadata": {},
     "output_type": "execute_result"
    }
   ],
   "source": [
    "# repeat previous steps\n",
    "# group by and aggregate\n",
    "airlines_delays_cancels = flights.groupby('airline').agg({'dep_delay':'mean', 'cancelled':'sum'}).reset_index()\n",
    "\n",
    "# view dataframe\n",
    "airlines_delays_cancels"
   ]
  },
  {
   "cell_type": "markdown",
   "id": "011fa47c-23b1-4cf7-bde9-79712fae404d",
   "metadata": {},
   "source": [
    "### Task 3\n",
    "\n",
    "Produce two bar graphs...  \n",
    "1. The top 9 highest number of cancellations by route in a plot called `top9_route_cancels_bar`  \n",
    "2. The top 9 highest average departure delays by airline in a plot called `top9_airline_delays_bar`"
   ]
  },
  {
   "cell_type": "code",
   "execution_count": 13,
   "id": "2219257c-628c-411a-a915-ba5b99aa0e96",
   "metadata": {
    "executionCancelledAt": null,
    "executionTime": 48,
    "lastExecutedAt": 1741199629508,
    "lastExecutedByKernel": "31899af1-5fd7-46de-8603-afa7d4d0b6e9",
    "lastScheduledRunId": null,
    "lastSuccessfullyExecutedCode": "# produce bar chart 1\n# top route cancels - filter for the top 9\ntop_9_routes_delays_cancels = routes_delays_cancels .sort_values('total_cancellations', ascending=False).iloc[0:9, :]",
    "outputsMetadata": {
     "0": {
      "height": 82,
      "tableState": {
       "customFilter": {
        "const": {
         "type": "boolean",
         "valid": true,
         "value": true
        },
        "id": "1d1a48da-85d6-4cab-90eb-8553474bff53",
        "nodeType": "const"
       },
       "quickFilterText": ""
      },
      "type": "dataFrame"
     }
    }
   },
   "outputs": [],
   "source": [
    "# produce bar chart 1\n",
    "# top route cancels - filter for the top 9\n",
    "top_9_routes_delays_cancels = routes_delays_cancels .sort_values('total_cancellations', ascending=False).iloc[0:9, :]"
   ]
  },
  {
   "cell_type": "code",
   "execution_count": 14,
   "id": "490299e1-1e1c-42e4-a547-aca194cda8de",
   "metadata": {
    "executionCancelledAt": null,
    "executionTime": 221,
    "lastExecutedAt": 1741199629729,
    "lastExecutedByKernel": "31899af1-5fd7-46de-8603-afa7d4d0b6e9",
    "lastScheduledRunId": null,
    "lastSuccessfullyExecutedCode": "# bar graph for number of cancellations by route\n\ntop_9_route_cancels_bar, ax = plt.subplots()\nax.bar(top_9_routes_delays_cancels['route'], top_9_routes_delays_cancels['total_cancellations'])\nax.set_xlabel(\"Route\")\nax.set_ylabel(\"Total Cancellations\")\nax.set_title(\"Top 9 Airline Routes by Cancellations\")\nax.set_xticklabels(top_9_routes_delays_cancels['route'], rotation=45)\nplt.show()",
    "outputsMetadata": {
     "0": {
      "height": 50,
      "tableState": {
       "customFilter": {
        "const": {
         "type": "boolean",
         "valid": true,
         "value": true
        },
        "id": "1d1a48da-85d6-4cab-90eb-8553474bff53",
        "nodeType": "const"
       },
       "quickFilterText": ""
      },
      "type": "dataFrame"
     }
    }
   },
   "outputs": [
    {
     "name": "stderr",
     "output_type": "stream",
     "text": [
      "C:\\Users\\Alexander\\AppData\\Local\\Temp\\ipykernel_54228\\3324864469.py:8: UserWarning: set_ticklabels() should only be used with a fixed number of ticks, i.e. after set_ticks() or using a FixedLocator.\n",
      "  ax.set_xticklabels(top_9_routes_delays_cancels['route'], rotation=45)\n"
     ]
    },
    {
     "data": {
      "image/png": "[encoded data removed]",
      "text/plain": [
       "<Figure size 640x480 with 1 Axes>"
      ]
     },
     "metadata": {},
     "output_type": "display_data"
    }
   ],
   "source": [
    "# bar graph for number of cancellations by route\n",
    "\n",
    "top_9_route_cancels_bar, ax = plt.subplots()\n",
    "ax.bar(top_9_routes_delays_cancels['route'], top_9_routes_delays_cancels['total_cancellations'])\n",
    "ax.set_xlabel(\"Route\")\n",
    "ax.set_ylabel(\"Total Cancellations\")\n",
    "ax.set_title(\"Top 9 Airline Routes by Cancellations\")\n",
    "ax.set_xticklabels(top_9_routes_delays_cancels['route'], rotation=45)\n",
    "plt.show()"
   ]
  },
  {
   "cell_type": "code",
   "execution_count": 15,
   "id": "1c101be9-39bf-481f-8515-d39156ed6561",
   "metadata": {
    "executionCancelledAt": null,
    "executionTime": 51,
    "lastExecutedAt": 1741199629780,
    "lastExecutedByKernel": "31899af1-5fd7-46de-8603-afa7d4d0b6e9",
    "lastScheduledRunId": null,
    "lastSuccessfullyExecutedCode": "# produce bar chart 2\n# number of airline delays\ntop_9_airlines_delays = airlines_delays_cancels.sort_values('dep_delay', ascending=False).iloc[0:9, :]",
    "outputsMetadata": {
     "0": {
      "height": 353,
      "tableState": {
       "customFilter": {
        "const": {
         "type": "boolean",
         "valid": true,
         "value": true
        },
        "id": "1d1a48da-85d6-4cab-90eb-8553474bff53",
        "nodeType": "const"
       },
       "quickFilterText": ""
      },
      "type": "dataFrame"
     }
    }
   },
   "outputs": [],
   "source": [
    "# produce bar chart 2\n",
    "# number of airline delays\n",
    "top_9_airlines_delays = airlines_delays_cancels.sort_values('dep_delay', ascending=False).iloc[0:9, :]"
   ]
  },
  {
   "cell_type": "code",
   "execution_count": 19,
   "id": "4c9c1ba9-fcc3-460e-82ca-62ec1309e46b",
   "metadata": {
    "executionCancelledAt": null,
    "executionTime": 271,
    "lastExecutedAt": 1741199630051,
    "lastExecutedByKernel": "31899af1-5fd7-46de-8603-afa7d4d0b6e9",
    "lastScheduledRunId": null,
    "lastSuccessfullyExecutedCode": "# bar plot for top cancellations by airline\ntop9_airline_delays_bar, ax = plt.subplots()\nax.bar(top_9_airlines_delays['airline'], top_9_airlines_delays['dep_delay'])\nax.set_ylabel(\"Mean Departure Delay\")\nax.set_xticklabels(top_9_airlines_delays['airline'], rotation=45)\nax.set_xlabel(\"Airline\")\nax.set_title(\"Mean Departure Delay by Airline\")\nplt.show()"
   },
   "outputs": [
    {
     "name": "stderr",
     "output_type": "stream",
     "text": [
      "C:\\Users\\Alexander\\AppData\\Local\\Temp\\ipykernel_54228\\3983122248.py:6: UserWarning: set_ticklabels() should only be used with a fixed number of ticks, i.e. after set_ticks() or using a FixedLocator.\n",
      "  ax.set_yticklabels(top_9_airlines_delays['airline'])\n"
     ]
    },
    {
     "data": {
      "image/png": "[encoded data removed]",
      "text/plain": [
       "<Figure size 640x480 with 1 Axes>"
      ]
     },
     "metadata": {},
     "output_type": "display_data"
    }
   ],
   "source": [
    "# bar plot for top cancellations by airline\n",
    "top9_airline_delays_bar, ax = plt.subplots()\n",
    "ax.barh(top_9_airlines_delays['airline'], top_9_airlines_delays['dep_delay'])\n",
    "ax.set_xlabel(\"Mean Departure Delay\")\n",
    "ax.set_ylabel(\"Airline\")\n",
    "ax.set_yticklabels(top_9_airlines_delays['airline'])\n",
    "ax.set_title(\"Mean Departure Delay by Airline\")\n",
    "plt.show()"
   ]
  },
  {
   "cell_type": "markdown",
   "id": "08d25a91-5677-48cb-86f3-2683d0eb44e5",
   "metadata": {},
   "source": [
    "### Task 4\n",
    "\n",
    "Determine if 10 mile per hour wind gusts or more have a larger average departure delay for both of SEA and PDX"
   ]
  },
  {
   "cell_type": "code",
   "execution_count": 20,
   "id": "ebbbdf62-942a-4d23-abf2-86de69313e97",
   "metadata": {
    "executionCancelledAt": null,
    "executionTime": null,
    "lastExecutedAt": null,
    "lastExecutedByKernel": null,
    "lastScheduledRunId": null,
    "lastSuccessfullyExecutedCode": null,
    "outputsMetadata": {
     "0": {
      "height": 50,
      "tableState": {
       "customFilter": {
        "const": {
         "type": "boolean",
         "valid": true,
         "value": true
        },
        "id": "1d1a48da-85d6-4cab-90eb-8553474bff53",
        "nodeType": "const"
       },
       "quickFilterText": ""
      },
      "type": "dataFrame"
     }
    }
   },
   "outputs": [
    {
     "data": {
      "application/vnd.microsoft.datawrangler.viewer.v0+json": {
       "columns": [
        {
         "name": "index",
         "rawType": "int64",
         "type": "integer"
        },
        {
         "name": "year",
         "rawType": "int64",
         "type": "integer"
        },
        {
         "name": "month",
         "rawType": "int64",
         "type": "integer"
        },
        {
         "name": "day",
         "rawType": "int64",
         "type": "integer"
        },
        {
         "name": "dep_time",
         "rawType": "float64",
         "type": "float"
        },
        {
         "name": "sched_dep_time",
         "rawType": "int64",
         "type": "integer"
        },
        {
         "name": "dep_delay",
         "rawType": "float64",
         "type": "float"
        },
        {
         "name": "arr_time",
         "rawType": "float64",
         "type": "float"
        },
        {
         "name": "sched_arr_time",
         "rawType": "int64",
         "type": "integer"
        },
        {
         "name": "arr_delay",
         "rawType": "float64",
         "type": "float"
        },
        {
         "name": "carrier",
         "rawType": "object",
         "type": "string"
        },
        {
         "name": "flight",
         "rawType": "int64",
         "type": "integer"
        },
        {
         "name": "tailnum",
         "rawType": "object",
         "type": "string"
        },
        {
         "name": "origin",
         "rawType": "object",
         "type": "string"
        },
        {
         "name": "dest",
         "rawType": "object",
         "type": "string"
        },
        {
         "name": "air_time",
         "rawType": "float64",
         "type": "float"
        },
        {
         "name": "distance",
         "rawType": "int64",
         "type": "integer"
        },
        {
         "name": "hour",
         "rawType": "int64",
         "type": "integer"
        },
        {
         "name": "minute",
         "rawType": "int64",
         "type": "integer"
        },
        {
         "name": "airline",
         "rawType": "object",
         "type": "string"
        },
        {
         "name": "route",
         "rawType": "object",
         "type": "string"
        },
        {
         "name": "temp",
         "rawType": "float64",
         "type": "float"
        },
        {
         "name": "dewp",
         "rawType": "float64",
         "type": "float"
        },
        {
         "name": "humid",
         "rawType": "float64",
         "type": "float"
        },
        {
         "name": "wind_dir",
         "rawType": "float64",
         "type": "float"
        },
        {
         "name": "wind_speed",
         "rawType": "float64",
         "type": "float"
        },
        {
         "name": "wind_gust",
         "rawType": "float64",
         "type": "float"
        },
        {
         "name": "precip",
         "rawType": "float64",
         "type": "float"
        },
        {
         "name": "pressure",
         "rawType": "float64",
         "type": "float"
        },
        {
         "name": "visib",
         "rawType": "float64",
         "type": "float"
        }
       ],
       "conversionMethod": "pd.DataFrame",
       "ref": "a5b7032b-11ce-45b5-a43f-076e95f92e21",
       "rows": [
        [
         "0",
         "2022",
         "1",
         "1",
         "1.0",
         "2359",
         "2.0",
         "604.0",
         "618",
         "-14.0",
         "UA",
         "555",
         "N405UA",
         "SEA",
         "IAH",
         "221.0",
         "1874",
         "23",
         "59",
         "United Air Lines Inc.",
         "SEA-IAH",
         "33.0",
         "23.0",
         "66.06",
         "160.0",
         "8.05546",
         "9.2700622588",
         "0.0",
         "1022.9",
         "10.0"
        ],
        [
         "2",
         "2022",
         "1",
         "1",
         "10.0",
         "2355",
         "15.0",
         "759.0",
         "730",
         "29.0",
         "AS",
         "270",
         "N274AK",
         "SEA",
         "ATL",
         "261.0",
         "2182",
         "23",
         "55",
         "Alaska Airlines Inc.",
         "SEA-ATL",
         "33.0",
         "23.0",
         "66.06",
         "160.0",
         "8.05546",
         "9.2700622588",
         "0.0",
         "1022.9",
         "10.0"
        ],
        [
         "3",
         "2022",
         "1",
         "1",
         "25.0",
         "2350",
         "35.0",
         "606.0",
         "550",
         "16.0",
         "AS",
         "7",
         "N281AK",
         "SEA",
         "ORD",
         "193.0",
         "1721",
         "23",
         "50",
         "Alaska Airlines Inc.",
         "SEA-ORD",
         "33.0",
         "23.0",
         "66.06",
         "160.0",
         "8.05546",
         "9.2700622588",
         "0.0",
         "1022.9",
         "10.0"
        ],
        [
         "4",
         "2022",
         "1",
         "1",
         "35.0",
         "2349",
         "46.0",
         "616.0",
         "545",
         "31.0",
         "UA",
         "507",
         "N426UA",
         "PDX",
         "ORD",
         "196.0",
         "1739",
         "23",
         "49",
         "United Air Lines Inc.",
         "PDX-ORD",
         "33.0",
         "19.0",
         "55.75",
         "120.0",
         "6.904679999999999",
         "7.945767650399998",
         "0.0",
         "1025.1",
         "10.0"
        ],
        [
         "5",
         "2022",
         "1",
         "1",
         "51.0",
         "2352",
         "59.0",
         "840.0",
         "758",
         "42.0",
         "B6",
         "366",
         "N625JB",
         "PDX",
         "JFK",
         "269.0",
         "2454",
         "23",
         "52",
         "JetBlue Airways",
         "PDX-JFK",
         "33.0",
         "19.0",
         "55.75",
         "120.0",
         "6.904679999999999",
         "7.945767650399998",
         "0.0",
         "1025.1",
         "10.0"
        ]
       ],
       "shape": {
        "columns": 29,
        "rows": 5
       }
      },
      "text/html": [
       "<div>\n",
       "<style scoped>\n",
       "    .dataframe tbody tr th:only-of-type {\n",
       "        vertical-align: middle;\n",
       "    }\n",
       "\n",
       "    .dataframe tbody tr th {\n",
       "        vertical-align: top;\n",
       "    }\n",
       "\n",
       "    .dataframe thead th {\n",
       "        text-align: right;\n",
       "    }\n",
       "</style>\n",
       "<table border=\"1\" class=\"dataframe\">\n",
       "  <thead>\n",
       "    <tr style=\"text-align: right;\">\n",
       "      <th></th>\n",
       "      <th>year</th>\n",
       "      <th>month</th>\n",
       "      <th>day</th>\n",
       "      <th>dep_time</th>\n",
       "      <th>sched_dep_time</th>\n",
       "      <th>dep_delay</th>\n",
       "      <th>arr_time</th>\n",
       "      <th>sched_arr_time</th>\n",
       "      <th>arr_delay</th>\n",
       "      <th>carrier</th>\n",
       "      <th>...</th>\n",
       "      <th>route</th>\n",
       "      <th>temp</th>\n",
       "      <th>dewp</th>\n",
       "      <th>humid</th>\n",
       "      <th>wind_dir</th>\n",
       "      <th>wind_speed</th>\n",
       "      <th>wind_gust</th>\n",
       "      <th>precip</th>\n",
       "      <th>pressure</th>\n",
       "      <th>visib</th>\n",
       "    </tr>\n",
       "  </thead>\n",
       "  <tbody>\n",
       "    <tr>\n",
       "      <th>0</th>\n",
       "      <td>2022</td>\n",
       "      <td>1</td>\n",
       "      <td>1</td>\n",
       "      <td>1.0</td>\n",
       "      <td>2359</td>\n",
       "      <td>2.0</td>\n",
       "      <td>604.0</td>\n",
       "      <td>618</td>\n",
       "      <td>-14.0</td>\n",
       "      <td>UA</td>\n",
       "      <td>...</td>\n",
       "      <td>SEA-IAH</td>\n",
       "      <td>33.0</td>\n",
       "      <td>23.0</td>\n",
       "      <td>66.06</td>\n",
       "      <td>160.0</td>\n",
       "      <td>8.05546</td>\n",
       "      <td>9.270062</td>\n",
       "      <td>0.0</td>\n",
       "      <td>1022.9</td>\n",
       "      <td>10.0</td>\n",
       "    </tr>\n",
       "    <tr>\n",
       "      <th>2</th>\n",
       "      <td>2022</td>\n",
       "      <td>1</td>\n",
       "      <td>1</td>\n",
       "      <td>10.0</td>\n",
       "      <td>2355</td>\n",
       "      <td>15.0</td>\n",
       "      <td>759.0</td>\n",
       "      <td>730</td>\n",
       "      <td>29.0</td>\n",
       "      <td>AS</td>\n",
       "      <td>...</td>\n",
       "      <td>SEA-ATL</td>\n",
       "      <td>33.0</td>\n",
       "      <td>23.0</td>\n",
       "      <td>66.06</td>\n",
       "      <td>160.0</td>\n",
       "      <td>8.05546</td>\n",
       "      <td>9.270062</td>\n",
       "      <td>0.0</td>\n",
       "      <td>1022.9</td>\n",
       "      <td>10.0</td>\n",
       "    </tr>\n",
       "    <tr>\n",
       "      <th>3</th>\n",
       "      <td>2022</td>\n",
       "      <td>1</td>\n",
       "      <td>1</td>\n",
       "      <td>25.0</td>\n",
       "      <td>2350</td>\n",
       "      <td>35.0</td>\n",
       "      <td>606.0</td>\n",
       "      <td>550</td>\n",
       "      <td>16.0</td>\n",
       "      <td>AS</td>\n",
       "      <td>...</td>\n",
       "      <td>SEA-ORD</td>\n",
       "      <td>33.0</td>\n",
       "      <td>23.0</td>\n",
       "      <td>66.06</td>\n",
       "      <td>160.0</td>\n",
       "      <td>8.05546</td>\n",
       "      <td>9.270062</td>\n",
       "      <td>0.0</td>\n",
       "      <td>1022.9</td>\n",
       "      <td>10.0</td>\n",
       "    </tr>\n",
       "    <tr>\n",
       "      <th>4</th>\n",
       "      <td>2022</td>\n",
       "      <td>1</td>\n",
       "      <td>1</td>\n",
       "      <td>35.0</td>\n",
       "      <td>2349</td>\n",
       "      <td>46.0</td>\n",
       "      <td>616.0</td>\n",
       "      <td>545</td>\n",
       "      <td>31.0</td>\n",
       "      <td>UA</td>\n",
       "      <td>...</td>\n",
       "      <td>PDX-ORD</td>\n",
       "      <td>33.0</td>\n",
       "      <td>19.0</td>\n",
       "      <td>55.75</td>\n",
       "      <td>120.0</td>\n",
       "      <td>6.90468</td>\n",
       "      <td>7.945768</td>\n",
       "      <td>0.0</td>\n",
       "      <td>1025.1</td>\n",
       "      <td>10.0</td>\n",
       "    </tr>\n",
       "    <tr>\n",
       "      <th>5</th>\n",
       "      <td>2022</td>\n",
       "      <td>1</td>\n",
       "      <td>1</td>\n",
       "      <td>51.0</td>\n",
       "      <td>2352</td>\n",
       "      <td>59.0</td>\n",
       "      <td>840.0</td>\n",
       "      <td>758</td>\n",
       "      <td>42.0</td>\n",
       "      <td>B6</td>\n",
       "      <td>...</td>\n",
       "      <td>PDX-JFK</td>\n",
       "      <td>33.0</td>\n",
       "      <td>19.0</td>\n",
       "      <td>55.75</td>\n",
       "      <td>120.0</td>\n",
       "      <td>6.90468</td>\n",
       "      <td>7.945768</td>\n",
       "      <td>0.0</td>\n",
       "      <td>1025.1</td>\n",
       "      <td>10.0</td>\n",
       "    </tr>\n",
       "  </tbody>\n",
       "</table>\n",
       "<p>5 rows × 29 columns</p>\n",
       "</div>"
      ],
      "text/plain": [
       "   year  month  day  dep_time  sched_dep_time  dep_delay  arr_time  \\\n",
       "0  2022      1    1       1.0            2359        2.0     604.0   \n",
       "2  2022      1    1      10.0            2355       15.0     759.0   \n",
       "3  2022      1    1      25.0            2350       35.0     606.0   \n",
       "4  2022      1    1      35.0            2349       46.0     616.0   \n",
       "5  2022      1    1      51.0            2352       59.0     840.0   \n",
       "\n",
       "   sched_arr_time  arr_delay carrier  ...    route  temp  dewp  humid  \\\n",
       "0             618      -14.0      UA  ...  SEA-IAH  33.0  23.0  66.06   \n",
       "2             730       29.0      AS  ...  SEA-ATL  33.0  23.0  66.06   \n",
       "3             550       16.0      AS  ...  SEA-ORD  33.0  23.0  66.06   \n",
       "4             545       31.0      UA  ...  PDX-ORD  33.0  19.0  55.75   \n",
       "5             758       42.0      B6  ...  PDX-JFK  33.0  19.0  55.75   \n",
       "\n",
       "   wind_dir  wind_speed  wind_gust  precip pressure visib  \n",
       "0     160.0     8.05546   9.270062     0.0   1022.9  10.0  \n",
       "2     160.0     8.05546   9.270062     0.0   1022.9  10.0  \n",
       "3     160.0     8.05546   9.270062     0.0   1022.9  10.0  \n",
       "4     120.0     6.90468   7.945768     0.0   1025.1  10.0  \n",
       "5     120.0     6.90468   7.945768     0.0   1025.1  10.0  \n",
       "\n",
       "[5 rows x 29 columns]"
      ]
     },
     "execution_count": 20,
     "metadata": {},
     "output_type": "execute_result"
    }
   ],
   "source": [
    "# find the data for those two origins first\n",
    "flights_sea_pdx = weather[(weather['origin'] == \"SEA\") | (weather['origin'] == \"PDX\")]\n",
    "\n",
    "# filter for wind gusts >= 10 mph\n",
    "flights_sea_pdx_gust10 = flights_sea_pdx[flights_sea_pdx['wind_gust'] >= 10]\n",
    "\n",
    "# filter for wind gusts < 10 mph\n",
    "flights_sea_pdx_gustlow = flights_sea_pdx[flights_sea_pdx['wind_gust'] < 10]\n",
    "\n",
    "flights_sea_pdx_gustlow.head()"
   ]
  },
  {
   "cell_type": "code",
   "execution_count": 32,
   "id": "b0f3bdf3-46ba-4d48-8e94-c3c4dd72653c",
   "metadata": {
    "executionCancelledAt": null,
    "executionTime": 52,
    "lastExecutedAt": 1741199630192,
    "lastExecutedByKernel": "31899af1-5fd7-46de-8603-afa7d4d0b6e9",
    "lastScheduledRunId": null,
    "lastSuccessfullyExecutedCode": "# calculate the avg dep delay for both datasets\ngust_dep_delay = flights_sea_pdx_gust10['wind_gust'].mean()\nlowgust_dep_delay = flights_sea_pdx_gustlow['wind_gust'].mean()\n\nif gust_dep_delay > lowgust_dep_delay:\n    wind_response = True\nelse:\n    wind_response = False\n    \nprint(wind_response)",
    "outputsMetadata": {
     "0": {
      "height": 38,
      "type": "stream"
     }
    }
   },
   "outputs": [
    {
     "name": "stdout",
     "output_type": "stream",
     "text": [
      "A departure delay exists when the gust is 10mph or greater: True\n"
     ]
    }
   ],
   "source": [
    "# calculate the avg dep delay for both datasets\n",
    "gust_dep_delay_drop = flights_sea_pdx_gust10['wind_gust'].dropna()\n",
    "gust_dep_delay = gust_dep_delay_drop.mean()\n",
    "lowgust_dep_delay_drop = flights_sea_pdx_gustlow['wind_gust'].dropna()\n",
    "lowgust_dep_delay = lowgust_dep_delay_drop.mean()\n",
    "\n",
    "if gust_dep_delay > lowgust_dep_delay:\n",
    "    wind_response = True\n",
    "else:\n",
    "    wind_response = False\n",
    "    \n",
    "print(f\"A departure delay exists when the gust is 10mph or greater: {wind_response}\")"
   ]
  },
  {
   "cell_type": "code",
   "execution_count": 35,
   "id": "d9ad8381",
   "metadata": {},
   "outputs": [],
   "source": [
    "# let's determine if that difference is statistically significant\n",
    "from scipy import stats\n",
    "\n",
    "t_statistic, p_value = stats.ttest_ind(gust_dep_delay_drop, lowgust_dep_delay_drop)"
   ]
  },
  {
   "cell_type": "code",
   "execution_count": 36,
   "id": "42f8a92d",
   "metadata": {},
   "outputs": [
    {
     "name": "stdout",
     "output_type": "stream",
     "text": [
      "We reject the null hypothesis that the mean departure delay is the same between the two groups. The p-value is 0.0, and this suggests on days where gusts are stronger than 10mph, departure delay is significantly greater.\n"
     ]
    }
   ],
   "source": [
    "# final statement\n",
    "alpha = 0.05\n",
    "\n",
    "if p_value < 0.05:\n",
    "    print(f\"We reject the null hypothesis that the mean departure delay is the same between the two groups. The p-value is {p_value.round(3)}, and this suggests on days where gusts are stronger than 10mph, departure delay is significantly greater.\")\n",
    "else:\n",
    "    print(\"We fail to reject the null hypothesis. The mean departure delay is the same on days with gusts at or greater than 10mph, to days where wind gusts are less than 10mph.\")\n"
   ]
  }
 ],
 "metadata": {
  "colab": {
   "name": "Welcome to DataCamp Workspaces.ipynb",
   "provenance": []
  },
  "kernelspec": {
   "display_name": "Python 3",
   "language": "python",
   "name": "python3"
  },
  "language_info": {
   "codemirror_mode": {
    "name": "ipython",
    "version": 3
   },
   "file_extension": ".py",
   "mimetype": "text/x-python",
   "name": "python",
   "nbconvert_exporter": "python",
   "pygments_lexer": "ipython3",
   "version": "3.9.15"
  }
 },
 "nbformat": 4,
 "nbformat_minor": 5
}
