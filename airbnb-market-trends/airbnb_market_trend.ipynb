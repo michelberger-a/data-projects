{
 "cells": [
  {
   "cell_type": "markdown",
   "id": "c747d469-ee97-4b95-880f-feefd5456042",
   "metadata": {
    "id": "bA5ajAmk7XH6"
   },
   "source": [
    "![NYC Skyline](nyc.jpg)\n",
    "\n",
    "Welcome to New York City, one of the most-visited cities in the world. There are many Airbnb listings in New York City to meet the high demand for temporary lodging for travelers, which can be anywhere between a few nights to many months. In this project, we will take a closer look at the New York Airbnb market by combining data from multiple file types like `.csv`, `.tsv`, and `.xlsx`.\n",
    "\n",
    "Recall that **CSV**, **TSV**, and **Excel** files are three common formats for storing data. \n",
    "Three files containing data on 2019 Airbnb listings are available to you:\n",
    "\n",
    "**data/airbnb_price.csv**\n",
    "This is a CSV file containing data on Airbnb listing prices and locations.\n",
    "- **`listing_id`**: unique identifier of listing\n",
    "- **`price`**: nightly listing price in USD\n",
    "- **`nbhood_full`**: name of borough and neighborhood where listing is located\n",
    "\n",
    "**data/airbnb_room_type.xlsx**\n",
    "This is an Excel file containing data on Airbnb listing descriptions and room types.\n",
    "- **`listing_id`**: unique identifier of listing\n",
    "- **`description`**: listing description\n",
    "- **`room_type`**: Airbnb has three types of rooms: shared rooms, private rooms, and entire homes/apartments\n",
    "\n",
    "**data/airbnb_last_review.tsv**\n",
    "This is a TSV file containing data on Airbnb host names and review dates.\n",
    "- **`listing_id`**: unique identifier of listing\n",
    "- **`host_name`**: name of listing host\n",
    "- **`last_review`**: date when the listing was last reviewed"
   ]
  },
  {
   "cell_type": "markdown",
   "id": "dae5e3c8",
   "metadata": {},
   "source": [
    "### Analysis\n",
    "\n",
    "#### Reading in data and preparation for the tasks"
   ]
  },
  {
   "cell_type": "code",
   "execution_count": 7,
   "id": "1fdc5784-479e-46cb-b05b-68439dcc94a7",
   "metadata": {
    "executionCancelledAt": null,
    "executionTime": 12,
    "lastExecutedAt": 1730423716135,
    "lastExecutedByKernel": "edc5b08a-c0ee-42a0-8697-7f23f4ea664b",
    "lastScheduledRunId": null,
    "lastSuccessfullyExecutedCode": "# Import necessary packages\nimport pandas as pd\nimport numpy as np\n\n# Begin coding here ...\n# Use as many cells as you like"
   },
   "outputs": [],
   "source": [
    "# Import necessary packages\n",
    "import pandas as pd\n",
    "from IPython.display import Markdown as md"
   ]
  },
  {
   "cell_type": "code",
   "execution_count": 3,
   "id": "b73988e9-9e2e-4e06-bd21-8b964de97bfb",
   "metadata": {
    "executionCancelledAt": null,
    "executionTime": 53,
    "lastExecutedAt": 1730423716188,
    "lastExecutedByKernel": "edc5b08a-c0ee-42a0-8697-7f23f4ea664b",
    "lastScheduledRunId": null,
    "lastSuccessfullyExecutedCode": "price = pd.read_csv(\"data/airbnb_price.csv\")\nprice.head()",
    "outputsMetadata": {
     "0": {
      "height": 249,
      "type": "dataFrame"
     }
    }
   },
   "outputs": [
    {
     "data": {
      "text/html": [
       "<div>\n",
       "<style scoped>\n",
       "    .dataframe tbody tr th:only-of-type {\n",
       "        vertical-align: middle;\n",
       "    }\n",
       "\n",
       "    .dataframe tbody tr th {\n",
       "        vertical-align: top;\n",
       "    }\n",
       "\n",
       "    .dataframe thead th {\n",
       "        text-align: right;\n",
       "    }\n",
       "</style>\n",
       "<table border=\"1\" class=\"dataframe\">\n",
       "  <thead>\n",
       "    <tr style=\"text-align: right;\">\n",
       "      <th></th>\n",
       "      <th>listing_id</th>\n",
       "      <th>price</th>\n",
       "      <th>nbhood_full</th>\n",
       "    </tr>\n",
       "  </thead>\n",
       "  <tbody>\n",
       "    <tr>\n",
       "      <th>0</th>\n",
       "      <td>2595</td>\n",
       "      <td>225 dollars</td>\n",
       "      <td>Manhattan, Midtown</td>\n",
       "    </tr>\n",
       "    <tr>\n",
       "      <th>1</th>\n",
       "      <td>3831</td>\n",
       "      <td>89 dollars</td>\n",
       "      <td>Brooklyn, Clinton Hill</td>\n",
       "    </tr>\n",
       "    <tr>\n",
       "      <th>2</th>\n",
       "      <td>5099</td>\n",
       "      <td>200 dollars</td>\n",
       "      <td>Manhattan, Murray Hill</td>\n",
       "    </tr>\n",
       "    <tr>\n",
       "      <th>3</th>\n",
       "      <td>5178</td>\n",
       "      <td>79 dollars</td>\n",
       "      <td>Manhattan, Hell's Kitchen</td>\n",
       "    </tr>\n",
       "    <tr>\n",
       "      <th>4</th>\n",
       "      <td>5238</td>\n",
       "      <td>150 dollars</td>\n",
       "      <td>Manhattan, Chinatown</td>\n",
       "    </tr>\n",
       "  </tbody>\n",
       "</table>\n",
       "</div>"
      ],
      "text/plain": [
       "   listing_id        price                nbhood_full\n",
       "0        2595  225 dollars         Manhattan, Midtown\n",
       "1        3831   89 dollars     Brooklyn, Clinton Hill\n",
       "2        5099  200 dollars     Manhattan, Murray Hill\n",
       "3        5178   79 dollars  Manhattan, Hell's Kitchen\n",
       "4        5238  150 dollars       Manhattan, Chinatown"
      ]
     },
     "execution_count": 3,
     "metadata": {},
     "output_type": "execute_result"
    }
   ],
   "source": [
    "# read in the price dataset\n",
    "price = pd.read_csv(\"data/airbnb_price.csv\")\n",
    "price.head()"
   ]
  },
  {
   "cell_type": "code",
   "execution_count": 4,
   "id": "26d7a5e9-68ce-4272-a246-50ba36fc64dd",
   "metadata": {
    "executionCancelledAt": null,
    "executionTime": 1359,
    "lastExecutedAt": 1730423717547,
    "lastExecutedByKernel": "edc5b08a-c0ee-42a0-8697-7f23f4ea664b",
    "lastScheduledRunId": null,
    "lastSuccessfullyExecutedCode": "room_type = pd.read_excel(\"data/airbnb_room_type.xlsx\")\nroom_type.head()",
    "outputsMetadata": {
     "0": {
      "height": 249,
      "type": "dataFrame"
     }
    }
   },
   "outputs": [
    {
     "data": {
      "text/html": [
       "<div>\n",
       "<style scoped>\n",
       "    .dataframe tbody tr th:only-of-type {\n",
       "        vertical-align: middle;\n",
       "    }\n",
       "\n",
       "    .dataframe tbody tr th {\n",
       "        vertical-align: top;\n",
       "    }\n",
       "\n",
       "    .dataframe thead th {\n",
       "        text-align: right;\n",
       "    }\n",
       "</style>\n",
       "<table border=\"1\" class=\"dataframe\">\n",
       "  <thead>\n",
       "    <tr style=\"text-align: right;\">\n",
       "      <th></th>\n",
       "      <th>listing_id</th>\n",
       "      <th>description</th>\n",
       "      <th>room_type</th>\n",
       "    </tr>\n",
       "  </thead>\n",
       "  <tbody>\n",
       "    <tr>\n",
       "      <th>0</th>\n",
       "      <td>2595</td>\n",
       "      <td>Skylit Midtown Castle</td>\n",
       "      <td>Entire home/apt</td>\n",
       "    </tr>\n",
       "    <tr>\n",
       "      <th>1</th>\n",
       "      <td>3831</td>\n",
       "      <td>Cozy Entire Floor of Brownstone</td>\n",
       "      <td>Entire home/apt</td>\n",
       "    </tr>\n",
       "    <tr>\n",
       "      <th>2</th>\n",
       "      <td>5099</td>\n",
       "      <td>Large Cozy 1 BR Apartment In Midtown East</td>\n",
       "      <td>Entire home/apt</td>\n",
       "    </tr>\n",
       "    <tr>\n",
       "      <th>3</th>\n",
       "      <td>5178</td>\n",
       "      <td>Large Furnished Room Near B'way</td>\n",
       "      <td>private room</td>\n",
       "    </tr>\n",
       "    <tr>\n",
       "      <th>4</th>\n",
       "      <td>5238</td>\n",
       "      <td>Cute &amp; Cozy Lower East Side 1 bdrm</td>\n",
       "      <td>Entire home/apt</td>\n",
       "    </tr>\n",
       "  </tbody>\n",
       "</table>\n",
       "</div>"
      ],
      "text/plain": [
       "   listing_id                                description        room_type\n",
       "0        2595                      Skylit Midtown Castle  Entire home/apt\n",
       "1        3831            Cozy Entire Floor of Brownstone  Entire home/apt\n",
       "2        5099  Large Cozy 1 BR Apartment In Midtown East  Entire home/apt\n",
       "3        5178            Large Furnished Room Near B'way     private room\n",
       "4        5238         Cute & Cozy Lower East Side 1 bdrm  Entire home/apt"
      ]
     },
     "execution_count": 4,
     "metadata": {},
     "output_type": "execute_result"
    }
   ],
   "source": [
    "# read in the room type dataset\n",
    "room_type = pd.read_excel(\"data/airbnb_room_type.xlsx\")\n",
    "room_type.head()"
   ]
  },
  {
   "cell_type": "code",
   "execution_count": 5,
   "id": "69e91c1b-bebb-48b8-bd5f-84669fc03fe6",
   "metadata": {
    "executionCancelledAt": null,
    "executionTime": 53,
    "lastExecutedAt": 1730423717600,
    "lastExecutedByKernel": "edc5b08a-c0ee-42a0-8697-7f23f4ea664b",
    "lastScheduledRunId": null,
    "lastSuccessfullyExecutedCode": "review = pd.read_table(\"data/airbnb_last_review.tsv\")\nreview.head()",
    "outputsMetadata": {
     "0": {
      "height": 249,
      "type": "dataFrame"
     }
    }
   },
   "outputs": [
    {
     "data": {
      "text/html": [
       "<div>\n",
       "<style scoped>\n",
       "    .dataframe tbody tr th:only-of-type {\n",
       "        vertical-align: middle;\n",
       "    }\n",
       "\n",
       "    .dataframe tbody tr th {\n",
       "        vertical-align: top;\n",
       "    }\n",
       "\n",
       "    .dataframe thead th {\n",
       "        text-align: right;\n",
       "    }\n",
       "</style>\n",
       "<table border=\"1\" class=\"dataframe\">\n",
       "  <thead>\n",
       "    <tr style=\"text-align: right;\">\n",
       "      <th></th>\n",
       "      <th>listing_id</th>\n",
       "      <th>host_name</th>\n",
       "      <th>last_review</th>\n",
       "    </tr>\n",
       "  </thead>\n",
       "  <tbody>\n",
       "    <tr>\n",
       "      <th>0</th>\n",
       "      <td>2595</td>\n",
       "      <td>Jennifer</td>\n",
       "      <td>May 21 2019</td>\n",
       "    </tr>\n",
       "    <tr>\n",
       "      <th>1</th>\n",
       "      <td>3831</td>\n",
       "      <td>LisaRoxanne</td>\n",
       "      <td>July 05 2019</td>\n",
       "    </tr>\n",
       "    <tr>\n",
       "      <th>2</th>\n",
       "      <td>5099</td>\n",
       "      <td>Chris</td>\n",
       "      <td>June 22 2019</td>\n",
       "    </tr>\n",
       "    <tr>\n",
       "      <th>3</th>\n",
       "      <td>5178</td>\n",
       "      <td>Shunichi</td>\n",
       "      <td>June 24 2019</td>\n",
       "    </tr>\n",
       "    <tr>\n",
       "      <th>4</th>\n",
       "      <td>5238</td>\n",
       "      <td>Ben</td>\n",
       "      <td>June 09 2019</td>\n",
       "    </tr>\n",
       "  </tbody>\n",
       "</table>\n",
       "</div>"
      ],
      "text/plain": [
       "   listing_id    host_name   last_review\n",
       "0        2595     Jennifer   May 21 2019\n",
       "1        3831  LisaRoxanne  July 05 2019\n",
       "2        5099        Chris  June 22 2019\n",
       "3        5178     Shunichi  June 24 2019\n",
       "4        5238          Ben  June 09 2019"
      ]
     },
     "execution_count": 5,
     "metadata": {},
     "output_type": "execute_result"
    }
   ],
   "source": [
    "# read in the reviews dataset\n",
    "review = pd.read_table(\"data/airbnb_last_review.tsv\")\n",
    "review.head()"
   ]
  },
  {
   "cell_type": "code",
   "execution_count": 6,
   "id": "779092ef-28b0-4912-8faf-59de48de2128",
   "metadata": {
    "executionCancelledAt": null,
    "executionTime": null,
    "lastExecutedAt": null,
    "lastExecutedByKernel": null,
    "lastScheduledRunId": null,
    "lastSuccessfullyExecutedCode": null,
    "outputsMetadata": {
     "0": {
      "height": 249,
      "type": "dataFrame"
     }
    }
   },
   "outputs": [
    {
     "data": {
      "text/html": [
       "<div>\n",
       "<style scoped>\n",
       "    .dataframe tbody tr th:only-of-type {\n",
       "        vertical-align: middle;\n",
       "    }\n",
       "\n",
       "    .dataframe tbody tr th {\n",
       "        vertical-align: top;\n",
       "    }\n",
       "\n",
       "    .dataframe thead th {\n",
       "        text-align: right;\n",
       "    }\n",
       "</style>\n",
       "<table border=\"1\" class=\"dataframe\">\n",
       "  <thead>\n",
       "    <tr style=\"text-align: right;\">\n",
       "      <th></th>\n",
       "      <th>listing_id</th>\n",
       "      <th>host_name</th>\n",
       "      <th>last_review</th>\n",
       "      <th>dates</th>\n",
       "    </tr>\n",
       "  </thead>\n",
       "  <tbody>\n",
       "    <tr>\n",
       "      <th>0</th>\n",
       "      <td>2595</td>\n",
       "      <td>Jennifer</td>\n",
       "      <td>May 21 2019</td>\n",
       "      <td>2019-05-21</td>\n",
       "    </tr>\n",
       "    <tr>\n",
       "      <th>1</th>\n",
       "      <td>3831</td>\n",
       "      <td>LisaRoxanne</td>\n",
       "      <td>July 05 2019</td>\n",
       "      <td>2019-07-05</td>\n",
       "    </tr>\n",
       "    <tr>\n",
       "      <th>2</th>\n",
       "      <td>5099</td>\n",
       "      <td>Chris</td>\n",
       "      <td>June 22 2019</td>\n",
       "      <td>2019-06-22</td>\n",
       "    </tr>\n",
       "    <tr>\n",
       "      <th>3</th>\n",
       "      <td>5178</td>\n",
       "      <td>Shunichi</td>\n",
       "      <td>June 24 2019</td>\n",
       "      <td>2019-06-24</td>\n",
       "    </tr>\n",
       "    <tr>\n",
       "      <th>4</th>\n",
       "      <td>5238</td>\n",
       "      <td>Ben</td>\n",
       "      <td>June 09 2019</td>\n",
       "      <td>2019-06-09</td>\n",
       "    </tr>\n",
       "  </tbody>\n",
       "</table>\n",
       "</div>"
      ],
      "text/plain": [
       "   listing_id    host_name   last_review       dates\n",
       "0        2595     Jennifer   May 21 2019  2019-05-21\n",
       "1        3831  LisaRoxanne  July 05 2019  2019-07-05\n",
       "2        5099        Chris  June 22 2019  2019-06-22\n",
       "3        5178     Shunichi  June 24 2019  2019-06-24\n",
       "4        5238          Ben  June 09 2019  2019-06-09"
      ]
     },
     "execution_count": 6,
     "metadata": {},
     "output_type": "execute_result"
    }
   ],
   "source": [
    "# dates of the earliest and most recent reviews\n",
    "review['dates'] = pd.to_datetime(review['last_review']).dt.date\n",
    "review.head()"
   ]
  },
  {
   "cell_type": "markdown",
   "id": "2043c946-214c-4f18-b166-3d3d621ff308",
   "metadata": {},
   "source": [
    "### Task 1 \n",
    "\n",
    "Airbnb is a busy company, which can make it difficult to track rental data in the busiest city in the world. However, we do want to investigate the dates in which AirBnB has operated within New York City. As a result, were were posed with a simple task to investigate.\n",
    "\n",
    "**What are the dates of the earliest and most recent reviews?**"
   ]
  },
  {
   "cell_type": "code",
   "execution_count": 20,
   "id": "3c2d4132-393c-4691-810c-78e071400c77",
   "metadata": {
    "executionCancelledAt": null,
    "executionTime": 51,
    "lastExecutedAt": 1730423717704,
    "lastExecutedByKernel": "edc5b08a-c0ee-42a0-8697-7f23f4ea664b",
    "lastScheduledRunId": null,
    "lastSuccessfullyExecutedCode": "# separate the dates column as its own\ndate_df = review[['dates']]\n\n# earliest reviews\nearliest = date_df.sort_values(by=['dates'], ascending=True)\nearliest = earliest['dates'].iloc[0]\n\n# most recent\nrecent = date_df.sort_values(by=['dates'], ascending=False)\nrecent = recent['dates'].iloc[0]\n\nprint(f\"The earliest date is: {earliest}\")\nprint(f\"The mos recent date is: {recent}\")",
    "outputsMetadata": {
     "0": {
      "height": 59,
      "type": "stream"
     }
    }
   },
   "outputs": [],
   "source": [
    "# separate the dates column as its own\n",
    "date_df = review[['dates']]\n",
    "\n",
    "# earliest reviews\n",
    "earliest = date_df.sort_values(by=['dates'], ascending=True)\n",
    "earliest = earliest['dates'].iloc[0]\n",
    "\n",
    "# most recent\n",
    "recent = date_df.sort_values(by=['dates'], ascending=False)\n",
    "recent = recent['dates'].iloc[0]"
   ]
  },
  {
   "cell_type": "code",
   "execution_count": 22,
   "id": "8d31bee4",
   "metadata": {},
   "outputs": [
    {
     "name": "stdout",
     "output_type": "stream",
     "text": [
      "After we manipulated the data, we were able to identify the most recent and earliest dates in which reviews were left.\n",
      "From the data, we found the earliest date was: 2019-01-01.\n",
      "Additionally, we found the most recent review to be: 2019-07-09.\n"
     ]
    }
   ],
   "source": [
    "# final output\n",
    "print(f\"After we manipulated the data, we were able to identify the most recent and earliest dates in which reviews were left.\")\n",
    "print(f\"From the data, we found the earliest date was: {earliest}.\")\n",
    "print(f\"Additionally, we found the most recent review to be: {recent}.\")"
   ]
  },
  {
   "cell_type": "markdown",
   "id": "a8e84109-26ae-405b-b929-d28592d9e520",
   "metadata": {},
   "source": [
    "### Task 2\n",
    "\n",
    "In the previous task, we were able to identify the most recent and earliest reviews on AirBnB for our dataset. However, we have another important task. AirBnB offers several different types of rental spaces. These include, shared rooms, private rooms, and entire homes/apartments. These types of places differentiate on the level of privacy offerred. In this instance, we want to identify one type of these rentable spaces, and how many of these spaces exist in New York City.\n",
    "\n",
    "**How many of the listings are private rooms?**"
   ]
  },
  {
   "cell_type": "code",
   "execution_count": 23,
   "id": "594e94a2-3d83-4706-a714-bd0c9c25e00c",
   "metadata": {
    "executionCancelledAt": null,
    "executionTime": 48,
    "lastExecutedAt": 1730423717752,
    "lastExecutedByKernel": "edc5b08a-c0ee-42a0-8697-7f23f4ea664b",
    "lastScheduledRunId": null,
    "lastSuccessfullyExecutedCode": "# check the unique iterations of private room\nroom_type['room_type'].unique()"
   },
   "outputs": [
    {
     "data": {
      "text/plain": [
       "array(['Entire home/apt', 'private room', 'Private room',\n",
       "       'entire home/apt', 'PRIVATE ROOM', 'shared room',\n",
       "       'ENTIRE HOME/APT', 'Shared room', 'SHARED ROOM'], dtype=object)"
      ]
     },
     "execution_count": 23,
     "metadata": {},
     "output_type": "execute_result"
    }
   ],
   "source": [
    "# check the unique iterations of room types\n",
    "room_type['room_type'].unique()"
   ]
  },
  {
   "cell_type": "code",
   "execution_count": 24,
   "id": "8f34aacc-d434-425d-915a-3873011064a1",
   "metadata": {
    "executionCancelledAt": null,
    "executionTime": 56,
    "lastExecutedAt": 1730423717808,
    "lastExecutedByKernel": "edc5b08a-c0ee-42a0-8697-7f23f4ea664b",
    "lastScheduledRunId": null,
    "lastSuccessfullyExecutedCode": "# notice there are multiple private rooms, let's convert to all lower\n# filter for private room and then count listing id\nprivate = room_type[room_type['room_type'].str.lower() =='private room']\nprivate_no = private.shape[0]\n\nprint(f\"The number of private rooms are: {private_no}\")",
    "outputsMetadata": {
     "0": {
      "height": 38,
      "type": "stream"
     }
    }
   },
   "outputs": [],
   "source": [
    "# notice there are multiple private rooms, let's convert to all lower case to ensure the options are consistent\n",
    "# filter for private room and then count listing id\n",
    "private = room_type[room_type['room_type'].str.lower() =='private room']\n",
    "private_no = private.shape[0]"
   ]
  },
  {
   "cell_type": "code",
   "execution_count": 25,
   "id": "79c5ff08",
   "metadata": {},
   "outputs": [
    {
     "name": "stdout",
     "output_type": "stream",
     "text": [
      "The number of private rooms in the dataset are: 11356\n"
     ]
    }
   ],
   "source": [
    "# final output\n",
    "print(f\"The number of private rooms in the dataset are: {private_no}\")"
   ]
  },
  {
   "cell_type": "markdown",
   "id": "07cdf9e1-cdfe-490e-978b-fb3b8c6403f1",
   "metadata": {},
   "source": [
    "### Task 3\n",
    "\n",
    "In the two previous tasks, we identify the earliest and most recent review dates, as well as the number of private rooms. Now, we need to identify a monetary metric. It may be important to determine the different types of rooms available, the dates of availability and so on. However, rental price is an extremely important metric to measure. This will help us determine how much money customers/tenants will pay, how much owners will make off their rentals, and ultimately, how much money AirBnb can make. \n",
    "\n",
    "**What is the average listing price?**"
   ]
  },
  {
   "cell_type": "code",
   "execution_count": 26,
   "id": "3f138624",
   "metadata": {},
   "outputs": [
    {
     "data": {
      "text/plain": [
       "0    225 dollars\n",
       "1     89 dollars\n",
       "2    200 dollars\n",
       "3     79 dollars\n",
       "4    150 dollars\n",
       "Name: price, dtype: object"
      ]
     },
     "execution_count": 26,
     "metadata": {},
     "output_type": "execute_result"
    }
   ],
   "source": [
    "# let's check the price column again\n",
    "price['price'].head()"
   ]
  },
  {
   "cell_type": "code",
   "execution_count": 27,
   "id": "a4544be7-c2ec-46a1-a74d-709ead1dc7d8",
   "metadata": {
    "executionCancelledAt": null,
    "executionTime": 60,
    "lastExecutedAt": 1730423717868,
    "lastExecutedByKernel": "edc5b08a-c0ee-42a0-8697-7f23f4ea664b",
    "lastScheduledRunId": null,
    "lastSuccessfullyExecutedCode": "# split the price column at space\nprice[['dols', 'scrap']] = price['price'].str.split(' ', n=1, expand=True)\nprice['dols'] = price['dols'].astype(int)\n\n# take the average now\navg_price = price['dols'].mean().round(2)\n\nprint(f\"The average price of listings is: {avg_price}\")",
    "outputsMetadata": {
     "0": {
      "height": 38,
      "type": "stream"
     }
    }
   },
   "outputs": [],
   "source": [
    "# as we notice, price is not actually a numeric variable as it contains the dollars string in the cells\n",
    "# split the price column at the space \n",
    "price[['dols', 'scrap']] = price['price'].str.split(' ', n=1, expand=True)\n",
    "# transform the amount to integer\n",
    "price['dols'] = price['dols'].astype(int)\n",
    "\n",
    "# take the average now, and keep the value to cents\n",
    "avg_price = price['dols'].mean().round(2)"
   ]
  },
  {
   "cell_type": "code",
   "execution_count": 32,
   "id": "6014d8c4",
   "metadata": {},
   "outputs": [
    {
     "name": "stdout",
     "output_type": "stream",
     "text": [
      "The average listed price of a one night's stay is $141.78.\n"
     ]
    }
   ],
   "source": [
    "# final output\n",
    "print(f\"The average listed price of a one night's stay is ${avg_price}.\")"
   ]
  },
  {
   "cell_type": "markdown",
   "id": "c2342bde-fd0e-452e-8935-ea2df4143081",
   "metadata": {},
   "source": [
    "### Task 4\n",
    "\n",
    "Finally, we have completed all the previous tasks to summarize some key information on AirBnb in New York City. However, we want to collect this data together in one area, to make it easier to read and find solutions to our tasks. \n",
    "\n",
    "**Combine the new variables into one DataFrame called review_dates with four columns in the following order: first_reviewed, last_reviewed, nb_private_rooms, and avg_price.**"
   ]
  },
  {
   "cell_type": "code",
   "execution_count": 34,
   "id": "77742fd3-aa2f-4fb2-80bb-1c9f166d2aac",
   "metadata": {
    "executionCancelledAt": null,
    "executionTime": 60,
    "lastExecutedAt": 1730423717928,
    "lastExecutedByKernel": "edc5b08a-c0ee-42a0-8697-7f23f4ea664b",
    "lastScheduledRunId": null,
    "lastSuccessfullyExecutedCode": "# create a dictionary of values\nreview = {'first_reviewed':[earliest],\n         'last_reviewed':[recent],\n         'nb_private_rooms':[private_no],\n         'avg_price':[avg_price]}\n\nreview_dates = pd.DataFrame(review)\nreview_dates",
    "outputsMetadata": {
     "0": {
      "height": 137,
      "type": "dataFrame"
     }
    }
   },
   "outputs": [],
   "source": [
    "# create a dictionary of values\n",
    "review = {'first_reviewed':[earliest],\n",
    "         'last_reviewed':[recent],\n",
    "         'nb_private_rooms':[private_no],\n",
    "         'avg_price':[avg_price]}\n",
    "\n",
    "# convert the dictionary into a new dataframe \n",
    "review_dates = pd.DataFrame(review)"
   ]
  },
  {
   "cell_type": "code",
   "execution_count": 38,
   "id": "7975cda0",
   "metadata": {},
   "outputs": [
    {
     "name": "stdout",
     "output_type": "stream",
     "text": [
      "The final collection of our key values is:\n",
      "  first_reviewed last_reviewed  nb_private_rooms  avg_price\n",
      "0     2019-01-01    2019-07-09             11356     141.78\n"
     ]
    }
   ],
   "source": [
    "# final output\n",
    "print(f\"The final collection of our key values is:\\n{review_dates}\")"
   ]
  },
  {
   "cell_type": "markdown",
   "id": "3125482a",
   "metadata": {},
   "source": [
    "### Review of all our tasks"
   ]
  },
  {
   "cell_type": "code",
   "execution_count": 43,
   "id": "f264c2a5",
   "metadata": {},
   "outputs": [
    {
     "name": "stdout",
     "output_type": "stream",
     "text": [
      "Task 1\n",
      "The most recent date for reviews on Airbnb is: 2019-07-09\n",
      "The earlist date for reviews on Airbnb is: 2019-01-01 \n",
      "\n",
      "Task 2\n",
      "The number of private rooms in the dataset is: 11356\n",
      "\n",
      "Task 3\n",
      "The average list price for a single night stay is: 141.78\n"
     ]
    }
   ],
   "source": [
    "print(\"Task 1\")\n",
    "print(f\"The most recent date for reviews on Airbnb is: {recent}\")\n",
    "print(f\"The earlist date for reviews on Airbnb is: {earliest} \")\n",
    "print(\"\\nTask 2\")\n",
    "print(f\"The number of private rooms in the dataset is: {private_no}\")\n",
    "print(\"\\nTask 3\")\n",
    "print(f\"The average list price for a single night stay is: {avg_price}\")"
   ]
  }
 ],
 "metadata": {
  "colab": {
   "name": "Welcome to DataCamp Workspaces.ipynb",
   "provenance": []
  },
  "editor": "DataLab",
  "kernelspec": {
   "display_name": "Python 3",
   "language": "python",
   "name": "python3"
  },
  "language_info": {
   "codemirror_mode": {
    "name": "ipython",
    "version": 3
   },
   "file_extension": ".py",
   "mimetype": "text/x-python",
   "name": "python",
   "nbconvert_exporter": "python",
   "pygments_lexer": "ipython3",
   "version": "3.9.15"
  }
 },
 "nbformat": 4,
 "nbformat_minor": 5
}
